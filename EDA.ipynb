{
  "nbformat": 4,
  "nbformat_minor": 0,
  "metadata": {
    "colab": {
      "provenance": [],
      "authorship_tag": "ABX9TyNxu0KXZYlnOHGJIsxbF/2E",
      "include_colab_link": true
    },
    "kernelspec": {
      "name": "python3",
      "display_name": "Python 3"
    },
    "language_info": {
      "name": "python"
    }
  },
  "cells": [
    {
      "cell_type": "markdown",
      "metadata": {
        "id": "view-in-github",
        "colab_type": "text"
      },
      "source": [
        "<a href=\"https://colab.research.google.com/github/sk27110/AutoPriceForecast/blob/main/EDA.ipynb\" target=\"_parent\"><img src=\"https://colab.research.google.com/assets/colab-badge.svg\" alt=\"Open In Colab\"/></a>"
      ]
    },
    {
      "cell_type": "code",
      "execution_count": 173,
      "metadata": {
        "id": "TKi5x_fw2LXs"
      },
      "outputs": [],
      "source": [
        "import numpy as np\n",
        "import pandas as pd\n",
        "import matplotlib.pyplot as plt\n",
        "import seaborn as sns\n",
        "import re"
      ]
    },
    {
      "cell_type": "code",
      "source": [
        "df = pd.read_csv('full_cars_data.csv')"
      ],
      "metadata": {
        "id": "Dp4jEHyi2Pvt"
      },
      "execution_count": 126,
      "outputs": []
    },
    {
      "cell_type": "code",
      "source": [
        "df.shape"
      ],
      "metadata": {
        "colab": {
          "base_uri": "https://localhost:8080/"
        },
        "id": "_Vj5Vq4z40a3",
        "outputId": "b152cede-013b-4a38-cb0b-f588edb0b9ed"
      },
      "execution_count": 127,
      "outputs": [
        {
          "output_type": "execute_result",
          "data": {
            "text/plain": [
              "(206656, 9)"
            ]
          },
          "metadata": {},
          "execution_count": 127
        }
      ]
    },
    {
      "cell_type": "code",
      "source": [
        "df.head()"
      ],
      "metadata": {
        "colab": {
          "base_uri": "https://localhost:8080/",
          "height": 310
        },
        "id": "Y4YhpZ-jFgIQ",
        "outputId": "55aab907-2df1-48d7-d23c-588b7c55d50c"
      },
      "execution_count": 128,
      "outputs": [
        {
          "output_type": "execute_result",
          "data": {
            "text/plain": [
              "       price                                           title  year   mileage  \\\n",
              "0        NaN             Mercedes-Benz G-Класс 230 II (W463)  1990  197000км   \n",
              "1        NaN  Mercedes-Benz S-Класс 560 II (W126) Рестайлинг  1990    2800км   \n",
              "2        NaN                          Toyota Carina V (T170)  1990  300000км   \n",
              "3  189 700 ₽                            Volkswagen Passat B3  1990  325000км   \n",
              "4  370 000 ₽                                Nissan Terrano I  1990  224000км   \n",
              "\n",
              "                      engine transmission          body_type drive_type  \\\n",
              "0  2.3 л / 125 л.с. / Бензин      автомат  внедорожник 3 дв.     полный   \n",
              "1  5.6 л / 279 л.с. / Бензин      автомат              седан     задний   \n",
              "2   1.6 л / 98 л.с. / Бензин      автомат              седан   передний   \n",
              "3   1.8 л / 90 л.с. / Бензин     механика    универсал 5 дв.   передний   \n",
              "4  2.7 л / 100 л.с. / Дизель      автомат  внедорожник 5 дв.     полный   \n",
              "\n",
              "        color  \n",
              "0       серый  \n",
              "1  коричневый  \n",
              "2       синий  \n",
              "3     красный  \n",
              "4     зелёный  "
            ],
            "text/html": [
              "\n",
              "  <div id=\"df-e4d0e63e-4c36-41bf-ad72-49c84a720dd0\" class=\"colab-df-container\">\n",
              "    <div>\n",
              "<style scoped>\n",
              "    .dataframe tbody tr th:only-of-type {\n",
              "        vertical-align: middle;\n",
              "    }\n",
              "\n",
              "    .dataframe tbody tr th {\n",
              "        vertical-align: top;\n",
              "    }\n",
              "\n",
              "    .dataframe thead th {\n",
              "        text-align: right;\n",
              "    }\n",
              "</style>\n",
              "<table border=\"1\" class=\"dataframe\">\n",
              "  <thead>\n",
              "    <tr style=\"text-align: right;\">\n",
              "      <th></th>\n",
              "      <th>price</th>\n",
              "      <th>title</th>\n",
              "      <th>year</th>\n",
              "      <th>mileage</th>\n",
              "      <th>engine</th>\n",
              "      <th>transmission</th>\n",
              "      <th>body_type</th>\n",
              "      <th>drive_type</th>\n",
              "      <th>color</th>\n",
              "    </tr>\n",
              "  </thead>\n",
              "  <tbody>\n",
              "    <tr>\n",
              "      <th>0</th>\n",
              "      <td>NaN</td>\n",
              "      <td>Mercedes-Benz G-Класс 230 II (W463)</td>\n",
              "      <td>1990</td>\n",
              "      <td>197000км</td>\n",
              "      <td>2.3 л / 125 л.с. / Бензин</td>\n",
              "      <td>автомат</td>\n",
              "      <td>внедорожник 3 дв.</td>\n",
              "      <td>полный</td>\n",
              "      <td>серый</td>\n",
              "    </tr>\n",
              "    <tr>\n",
              "      <th>1</th>\n",
              "      <td>NaN</td>\n",
              "      <td>Mercedes-Benz S-Класс 560 II (W126) Рестайлинг</td>\n",
              "      <td>1990</td>\n",
              "      <td>2800км</td>\n",
              "      <td>5.6 л / 279 л.с. / Бензин</td>\n",
              "      <td>автомат</td>\n",
              "      <td>седан</td>\n",
              "      <td>задний</td>\n",
              "      <td>коричневый</td>\n",
              "    </tr>\n",
              "    <tr>\n",
              "      <th>2</th>\n",
              "      <td>NaN</td>\n",
              "      <td>Toyota Carina V (T170)</td>\n",
              "      <td>1990</td>\n",
              "      <td>300000км</td>\n",
              "      <td>1.6 л / 98 л.с. / Бензин</td>\n",
              "      <td>автомат</td>\n",
              "      <td>седан</td>\n",
              "      <td>передний</td>\n",
              "      <td>синий</td>\n",
              "    </tr>\n",
              "    <tr>\n",
              "      <th>3</th>\n",
              "      <td>189 700 ₽</td>\n",
              "      <td>Volkswagen Passat B3</td>\n",
              "      <td>1990</td>\n",
              "      <td>325000км</td>\n",
              "      <td>1.8 л / 90 л.с. / Бензин</td>\n",
              "      <td>механика</td>\n",
              "      <td>универсал 5 дв.</td>\n",
              "      <td>передний</td>\n",
              "      <td>красный</td>\n",
              "    </tr>\n",
              "    <tr>\n",
              "      <th>4</th>\n",
              "      <td>370 000 ₽</td>\n",
              "      <td>Nissan Terrano I</td>\n",
              "      <td>1990</td>\n",
              "      <td>224000км</td>\n",
              "      <td>2.7 л / 100 л.с. / Дизель</td>\n",
              "      <td>автомат</td>\n",
              "      <td>внедорожник 5 дв.</td>\n",
              "      <td>полный</td>\n",
              "      <td>зелёный</td>\n",
              "    </tr>\n",
              "  </tbody>\n",
              "</table>\n",
              "</div>\n",
              "    <div class=\"colab-df-buttons\">\n",
              "\n",
              "  <div class=\"colab-df-container\">\n",
              "    <button class=\"colab-df-convert\" onclick=\"convertToInteractive('df-e4d0e63e-4c36-41bf-ad72-49c84a720dd0')\"\n",
              "            title=\"Convert this dataframe to an interactive table.\"\n",
              "            style=\"display:none;\">\n",
              "\n",
              "  <svg xmlns=\"http://www.w3.org/2000/svg\" height=\"24px\" viewBox=\"0 -960 960 960\">\n",
              "    <path d=\"M120-120v-720h720v720H120Zm60-500h600v-160H180v160Zm220 220h160v-160H400v160Zm0 220h160v-160H400v160ZM180-400h160v-160H180v160Zm440 0h160v-160H620v160ZM180-180h160v-160H180v160Zm440 0h160v-160H620v160Z\"/>\n",
              "  </svg>\n",
              "    </button>\n",
              "\n",
              "  <style>\n",
              "    .colab-df-container {\n",
              "      display:flex;\n",
              "      gap: 12px;\n",
              "    }\n",
              "\n",
              "    .colab-df-convert {\n",
              "      background-color: #E8F0FE;\n",
              "      border: none;\n",
              "      border-radius: 50%;\n",
              "      cursor: pointer;\n",
              "      display: none;\n",
              "      fill: #1967D2;\n",
              "      height: 32px;\n",
              "      padding: 0 0 0 0;\n",
              "      width: 32px;\n",
              "    }\n",
              "\n",
              "    .colab-df-convert:hover {\n",
              "      background-color: #E2EBFA;\n",
              "      box-shadow: 0px 1px 2px rgba(60, 64, 67, 0.3), 0px 1px 3px 1px rgba(60, 64, 67, 0.15);\n",
              "      fill: #174EA6;\n",
              "    }\n",
              "\n",
              "    .colab-df-buttons div {\n",
              "      margin-bottom: 4px;\n",
              "    }\n",
              "\n",
              "    [theme=dark] .colab-df-convert {\n",
              "      background-color: #3B4455;\n",
              "      fill: #D2E3FC;\n",
              "    }\n",
              "\n",
              "    [theme=dark] .colab-df-convert:hover {\n",
              "      background-color: #434B5C;\n",
              "      box-shadow: 0px 1px 3px 1px rgba(0, 0, 0, 0.15);\n",
              "      filter: drop-shadow(0px 1px 2px rgba(0, 0, 0, 0.3));\n",
              "      fill: #FFFFFF;\n",
              "    }\n",
              "  </style>\n",
              "\n",
              "    <script>\n",
              "      const buttonEl =\n",
              "        document.querySelector('#df-e4d0e63e-4c36-41bf-ad72-49c84a720dd0 button.colab-df-convert');\n",
              "      buttonEl.style.display =\n",
              "        google.colab.kernel.accessAllowed ? 'block' : 'none';\n",
              "\n",
              "      async function convertToInteractive(key) {\n",
              "        const element = document.querySelector('#df-e4d0e63e-4c36-41bf-ad72-49c84a720dd0');\n",
              "        const dataTable =\n",
              "          await google.colab.kernel.invokeFunction('convertToInteractive',\n",
              "                                                    [key], {});\n",
              "        if (!dataTable) return;\n",
              "\n",
              "        const docLinkHtml = 'Like what you see? Visit the ' +\n",
              "          '<a target=\"_blank\" href=https://colab.research.google.com/notebooks/data_table.ipynb>data table notebook</a>'\n",
              "          + ' to learn more about interactive tables.';\n",
              "        element.innerHTML = '';\n",
              "        dataTable['output_type'] = 'display_data';\n",
              "        await google.colab.output.renderOutput(dataTable, element);\n",
              "        const docLink = document.createElement('div');\n",
              "        docLink.innerHTML = docLinkHtml;\n",
              "        element.appendChild(docLink);\n",
              "      }\n",
              "    </script>\n",
              "  </div>\n",
              "\n",
              "\n",
              "<div id=\"df-d8fe7c36-7b14-417c-ae17-03869a3f5fae\">\n",
              "  <button class=\"colab-df-quickchart\" onclick=\"quickchart('df-d8fe7c36-7b14-417c-ae17-03869a3f5fae')\"\n",
              "            title=\"Suggest charts\"\n",
              "            style=\"display:none;\">\n",
              "\n",
              "<svg xmlns=\"http://www.w3.org/2000/svg\" height=\"24px\"viewBox=\"0 0 24 24\"\n",
              "     width=\"24px\">\n",
              "    <g>\n",
              "        <path d=\"M19 3H5c-1.1 0-2 .9-2 2v14c0 1.1.9 2 2 2h14c1.1 0 2-.9 2-2V5c0-1.1-.9-2-2-2zM9 17H7v-7h2v7zm4 0h-2V7h2v10zm4 0h-2v-4h2v4z\"/>\n",
              "    </g>\n",
              "</svg>\n",
              "  </button>\n",
              "\n",
              "<style>\n",
              "  .colab-df-quickchart {\n",
              "      --bg-color: #E8F0FE;\n",
              "      --fill-color: #1967D2;\n",
              "      --hover-bg-color: #E2EBFA;\n",
              "      --hover-fill-color: #174EA6;\n",
              "      --disabled-fill-color: #AAA;\n",
              "      --disabled-bg-color: #DDD;\n",
              "  }\n",
              "\n",
              "  [theme=dark] .colab-df-quickchart {\n",
              "      --bg-color: #3B4455;\n",
              "      --fill-color: #D2E3FC;\n",
              "      --hover-bg-color: #434B5C;\n",
              "      --hover-fill-color: #FFFFFF;\n",
              "      --disabled-bg-color: #3B4455;\n",
              "      --disabled-fill-color: #666;\n",
              "  }\n",
              "\n",
              "  .colab-df-quickchart {\n",
              "    background-color: var(--bg-color);\n",
              "    border: none;\n",
              "    border-radius: 50%;\n",
              "    cursor: pointer;\n",
              "    display: none;\n",
              "    fill: var(--fill-color);\n",
              "    height: 32px;\n",
              "    padding: 0;\n",
              "    width: 32px;\n",
              "  }\n",
              "\n",
              "  .colab-df-quickchart:hover {\n",
              "    background-color: var(--hover-bg-color);\n",
              "    box-shadow: 0 1px 2px rgba(60, 64, 67, 0.3), 0 1px 3px 1px rgba(60, 64, 67, 0.15);\n",
              "    fill: var(--button-hover-fill-color);\n",
              "  }\n",
              "\n",
              "  .colab-df-quickchart-complete:disabled,\n",
              "  .colab-df-quickchart-complete:disabled:hover {\n",
              "    background-color: var(--disabled-bg-color);\n",
              "    fill: var(--disabled-fill-color);\n",
              "    box-shadow: none;\n",
              "  }\n",
              "\n",
              "  .colab-df-spinner {\n",
              "    border: 2px solid var(--fill-color);\n",
              "    border-color: transparent;\n",
              "    border-bottom-color: var(--fill-color);\n",
              "    animation:\n",
              "      spin 1s steps(1) infinite;\n",
              "  }\n",
              "\n",
              "  @keyframes spin {\n",
              "    0% {\n",
              "      border-color: transparent;\n",
              "      border-bottom-color: var(--fill-color);\n",
              "      border-left-color: var(--fill-color);\n",
              "    }\n",
              "    20% {\n",
              "      border-color: transparent;\n",
              "      border-left-color: var(--fill-color);\n",
              "      border-top-color: var(--fill-color);\n",
              "    }\n",
              "    30% {\n",
              "      border-color: transparent;\n",
              "      border-left-color: var(--fill-color);\n",
              "      border-top-color: var(--fill-color);\n",
              "      border-right-color: var(--fill-color);\n",
              "    }\n",
              "    40% {\n",
              "      border-color: transparent;\n",
              "      border-right-color: var(--fill-color);\n",
              "      border-top-color: var(--fill-color);\n",
              "    }\n",
              "    60% {\n",
              "      border-color: transparent;\n",
              "      border-right-color: var(--fill-color);\n",
              "    }\n",
              "    80% {\n",
              "      border-color: transparent;\n",
              "      border-right-color: var(--fill-color);\n",
              "      border-bottom-color: var(--fill-color);\n",
              "    }\n",
              "    90% {\n",
              "      border-color: transparent;\n",
              "      border-bottom-color: var(--fill-color);\n",
              "    }\n",
              "  }\n",
              "</style>\n",
              "\n",
              "  <script>\n",
              "    async function quickchart(key) {\n",
              "      const quickchartButtonEl =\n",
              "        document.querySelector('#' + key + ' button');\n",
              "      quickchartButtonEl.disabled = true;  // To prevent multiple clicks.\n",
              "      quickchartButtonEl.classList.add('colab-df-spinner');\n",
              "      try {\n",
              "        const charts = await google.colab.kernel.invokeFunction(\n",
              "            'suggestCharts', [key], {});\n",
              "      } catch (error) {\n",
              "        console.error('Error during call to suggestCharts:', error);\n",
              "      }\n",
              "      quickchartButtonEl.classList.remove('colab-df-spinner');\n",
              "      quickchartButtonEl.classList.add('colab-df-quickchart-complete');\n",
              "    }\n",
              "    (() => {\n",
              "      let quickchartButtonEl =\n",
              "        document.querySelector('#df-d8fe7c36-7b14-417c-ae17-03869a3f5fae button');\n",
              "      quickchartButtonEl.style.display =\n",
              "        google.colab.kernel.accessAllowed ? 'block' : 'none';\n",
              "    })();\n",
              "  </script>\n",
              "</div>\n",
              "    </div>\n",
              "  </div>\n"
            ],
            "application/vnd.google.colaboratory.intrinsic+json": {
              "type": "dataframe",
              "variable_name": "df"
            }
          },
          "metadata": {},
          "execution_count": 128
        }
      ]
    },
    {
      "cell_type": "markdown",
      "source": [
        "Целевая переменная здесь -- price."
      ],
      "metadata": {
        "id": "HSZiLYV65ave"
      }
    },
    {
      "cell_type": "markdown",
      "source": [
        "Как мы видим, в колонке price есть пропуски. Давайте удалим все строки, в которых price = NaN"
      ],
      "metadata": {
        "id": "WC141l9747Ru"
      }
    },
    {
      "cell_type": "code",
      "source": [
        "df = df.dropna(subset=['price'])"
      ],
      "metadata": {
        "id": "hUw_gjwf4Ze8"
      },
      "execution_count": 129,
      "outputs": []
    },
    {
      "cell_type": "code",
      "source": [
        "df['price'].isna().sum()"
      ],
      "metadata": {
        "colab": {
          "base_uri": "https://localhost:8080/"
        },
        "id": "MHIYcqBv4upj",
        "outputId": "3165140e-7eb1-44aa-fed5-0d8bb2b007e2"
      },
      "execution_count": 130,
      "outputs": [
        {
          "output_type": "execute_result",
          "data": {
            "text/plain": [
              "0"
            ]
          },
          "metadata": {},
          "execution_count": 130
        }
      ]
    },
    {
      "cell_type": "markdown",
      "source": [
        "Теперь пропусков в price у нас нет."
      ],
      "metadata": {
        "id": "orWM-X345T-w"
      }
    },
    {
      "cell_type": "markdown",
      "source": [
        "Давайте посмотрим, какие единицы измерения есть в столбцах:"
      ],
      "metadata": {
        "id": "Nk5YqlqiZ4n5"
      }
    },
    {
      "cell_type": "code",
      "source": [
        "print(\"Различные валюты:\", df['price'].apply(lambda x: re.sub(r'[\\d\\s]+', '', x)).unique())\n",
        "print(\"Различные единицы измерения расстояния:\", df['mileage'].apply(lambda x: re.sub(r'[\\d\\s]+', '', x)).unique())\n",
        "print(\"Различные единицы измерения двигателя:\", df['engine'].apply(lambda x: re.sub(r'[\\d\\s]+', '', x)).unique())"
      ],
      "metadata": {
        "colab": {
          "base_uri": "https://localhost:8080/"
        },
        "id": "QKFzBgZzZ9_F",
        "outputId": "f90baca7-9099-45bb-da49-34b24d6bc54d"
      },
      "execution_count": 131,
      "outputs": [
        {
          "output_type": "stream",
          "name": "stdout",
          "text": [
            "Различные валюты: ['₽']\n",
            "Различные единицы измерения расстояния: ['км']\n",
            "Различные единицы измерения двигателя: ['.л/л.с./Бензин' '.л/л.с./Дизель' '.л/л.с./Газ' '.л/л.с./Гибрид'\n",
            " 'л.с./кВт/Электро']\n"
          ]
        }
      ]
    },
    {
      "cell_type": "markdown",
      "source": [
        "Как мы видим, с price и mileage все хорошо, а вот с engine придется поработать."
      ],
      "metadata": {
        "id": "WTxLDRZHaBPq"
      }
    },
    {
      "cell_type": "markdown",
      "source": [
        "Теперь обработаем параметр engine. Как мы видим, в нем одновременно указан объем, мощьность и вид топлива. Разобъем его на три колонки."
      ],
      "metadata": {
        "id": "yrWDJ5Ma5m9e"
      }
    },
    {
      "cell_type": "code",
      "source": [
        "df['engine_capacity'] = np.nan\n",
        "df['engine_power'] = np.nan\n",
        "df['fuel_type'] = np.nan"
      ],
      "metadata": {
        "id": "vCCFkQVE5-dX"
      },
      "execution_count": 132,
      "outputs": []
    },
    {
      "cell_type": "code",
      "source": [
        "def engine_transform(row):\n",
        "  try:\n",
        "    if pd.isna(row['engine']):\n",
        "      return row\n",
        "    data = row['engine'].split('/')\n",
        "    if data[2].strip() == 'Электро':\n",
        "      data[1] = data[0]\n",
        "      data[0] = np.nan\n",
        "\n",
        "    row['engine_capacity'] = data[0]\n",
        "    row['engine_power'] = data[1]\n",
        "    row['fuel_type'] = data[2].strip()\n",
        "    return row\n",
        "  except:\n",
        "    print(\"Ошибка со строкой\", row)\n",
        "    return row"
      ],
      "metadata": {
        "id": "cBnbCtB_6kLG"
      },
      "execution_count": 133,
      "outputs": []
    },
    {
      "cell_type": "code",
      "source": [
        "df = df.apply(engine_transform, axis=1)"
      ],
      "metadata": {
        "id": "zKgyjAQj_nJW"
      },
      "execution_count": 134,
      "outputs": []
    },
    {
      "cell_type": "code",
      "source": [
        "print(df['engine_capacity'].isna().sum())\n",
        "print(df['engine_power'].isna().sum())\n",
        "print(df['fuel_type'].isna().sum())"
      ],
      "metadata": {
        "colab": {
          "base_uri": "https://localhost:8080/"
        },
        "id": "ebJBCYvQAsFu",
        "outputId": "c193c895-65df-477a-b073-25588402e1da"
      },
      "execution_count": 135,
      "outputs": [
        {
          "output_type": "stream",
          "name": "stdout",
          "text": [
            "3606\n",
            "0\n",
            "0\n"
          ]
        }
      ]
    },
    {
      "cell_type": "markdown",
      "source": [
        "Как мы видим, пропусков в новых столбцах нет."
      ],
      "metadata": {
        "id": "IgshYS70A4v4"
      }
    },
    {
      "cell_type": "markdown",
      "source": [
        "Теперь удалим ненужный столбец engine:"
      ],
      "metadata": {
        "id": "w2cm08C4B4Zi"
      }
    },
    {
      "cell_type": "code",
      "source": [
        "df = df.drop('engine', axis=1)"
      ],
      "metadata": {
        "id": "KNdPMTORBzrP"
      },
      "execution_count": 136,
      "outputs": []
    },
    {
      "cell_type": "code",
      "source": [
        "df.head()"
      ],
      "metadata": {
        "colab": {
          "base_uri": "https://localhost:8080/",
          "height": 330
        },
        "id": "o0tpeSe1B-gp",
        "outputId": "8a49d94a-ea7f-48d0-90ca-89ed325f16fb"
      },
      "execution_count": 137,
      "outputs": [
        {
          "output_type": "execute_result",
          "data": {
            "text/plain": [
              "       price                   title  year   mileage transmission  \\\n",
              "3  189 700 ₽    Volkswagen Passat B3  1990  325000км     механика   \n",
              "4  370 000 ₽        Nissan Terrano I  1990  224000км      автомат   \n",
              "5  350 000 ₽          Honda Civic IV  1990  200000км     механика   \n",
              "6  360 000 ₽    Volkswagen Passat B3  1990  200000км     механика   \n",
              "7   99 000 ₽  Toyota Carina V (T170)  1990  296000км      автомат   \n",
              "\n",
              "           body_type drive_type        color engine_capacity engine_power  \\\n",
              "3    универсал 5 дв.   передний      красный          1.8 л      90 л.с.    \n",
              "4  внедорожник 5 дв.     полный      зелёный          2.7 л     100 л.с.    \n",
              "5              седан   передний  серебристый          1.6 л     120 л.с.    \n",
              "6    универсал 5 дв.   передний        белый          1.8 л      90 л.с.    \n",
              "7              седан   передний  серебристый          1.5 л      94 л.с.    \n",
              "\n",
              "  fuel_type  \n",
              "3    Бензин  \n",
              "4    Дизель  \n",
              "5    Бензин  \n",
              "6    Бензин  \n",
              "7    Бензин  "
            ],
            "text/html": [
              "\n",
              "  <div id=\"df-03afa364-e169-4e24-85b5-ef5df326b0d4\" class=\"colab-df-container\">\n",
              "    <div>\n",
              "<style scoped>\n",
              "    .dataframe tbody tr th:only-of-type {\n",
              "        vertical-align: middle;\n",
              "    }\n",
              "\n",
              "    .dataframe tbody tr th {\n",
              "        vertical-align: top;\n",
              "    }\n",
              "\n",
              "    .dataframe thead th {\n",
              "        text-align: right;\n",
              "    }\n",
              "</style>\n",
              "<table border=\"1\" class=\"dataframe\">\n",
              "  <thead>\n",
              "    <tr style=\"text-align: right;\">\n",
              "      <th></th>\n",
              "      <th>price</th>\n",
              "      <th>title</th>\n",
              "      <th>year</th>\n",
              "      <th>mileage</th>\n",
              "      <th>transmission</th>\n",
              "      <th>body_type</th>\n",
              "      <th>drive_type</th>\n",
              "      <th>color</th>\n",
              "      <th>engine_capacity</th>\n",
              "      <th>engine_power</th>\n",
              "      <th>fuel_type</th>\n",
              "    </tr>\n",
              "  </thead>\n",
              "  <tbody>\n",
              "    <tr>\n",
              "      <th>3</th>\n",
              "      <td>189 700 ₽</td>\n",
              "      <td>Volkswagen Passat B3</td>\n",
              "      <td>1990</td>\n",
              "      <td>325000км</td>\n",
              "      <td>механика</td>\n",
              "      <td>универсал 5 дв.</td>\n",
              "      <td>передний</td>\n",
              "      <td>красный</td>\n",
              "      <td>1.8 л</td>\n",
              "      <td>90 л.с.</td>\n",
              "      <td>Бензин</td>\n",
              "    </tr>\n",
              "    <tr>\n",
              "      <th>4</th>\n",
              "      <td>370 000 ₽</td>\n",
              "      <td>Nissan Terrano I</td>\n",
              "      <td>1990</td>\n",
              "      <td>224000км</td>\n",
              "      <td>автомат</td>\n",
              "      <td>внедорожник 5 дв.</td>\n",
              "      <td>полный</td>\n",
              "      <td>зелёный</td>\n",
              "      <td>2.7 л</td>\n",
              "      <td>100 л.с.</td>\n",
              "      <td>Дизель</td>\n",
              "    </tr>\n",
              "    <tr>\n",
              "      <th>5</th>\n",
              "      <td>350 000 ₽</td>\n",
              "      <td>Honda Civic IV</td>\n",
              "      <td>1990</td>\n",
              "      <td>200000км</td>\n",
              "      <td>механика</td>\n",
              "      <td>седан</td>\n",
              "      <td>передний</td>\n",
              "      <td>серебристый</td>\n",
              "      <td>1.6 л</td>\n",
              "      <td>120 л.с.</td>\n",
              "      <td>Бензин</td>\n",
              "    </tr>\n",
              "    <tr>\n",
              "      <th>6</th>\n",
              "      <td>360 000 ₽</td>\n",
              "      <td>Volkswagen Passat B3</td>\n",
              "      <td>1990</td>\n",
              "      <td>200000км</td>\n",
              "      <td>механика</td>\n",
              "      <td>универсал 5 дв.</td>\n",
              "      <td>передний</td>\n",
              "      <td>белый</td>\n",
              "      <td>1.8 л</td>\n",
              "      <td>90 л.с.</td>\n",
              "      <td>Бензин</td>\n",
              "    </tr>\n",
              "    <tr>\n",
              "      <th>7</th>\n",
              "      <td>99 000 ₽</td>\n",
              "      <td>Toyota Carina V (T170)</td>\n",
              "      <td>1990</td>\n",
              "      <td>296000км</td>\n",
              "      <td>автомат</td>\n",
              "      <td>седан</td>\n",
              "      <td>передний</td>\n",
              "      <td>серебристый</td>\n",
              "      <td>1.5 л</td>\n",
              "      <td>94 л.с.</td>\n",
              "      <td>Бензин</td>\n",
              "    </tr>\n",
              "  </tbody>\n",
              "</table>\n",
              "</div>\n",
              "    <div class=\"colab-df-buttons\">\n",
              "\n",
              "  <div class=\"colab-df-container\">\n",
              "    <button class=\"colab-df-convert\" onclick=\"convertToInteractive('df-03afa364-e169-4e24-85b5-ef5df326b0d4')\"\n",
              "            title=\"Convert this dataframe to an interactive table.\"\n",
              "            style=\"display:none;\">\n",
              "\n",
              "  <svg xmlns=\"http://www.w3.org/2000/svg\" height=\"24px\" viewBox=\"0 -960 960 960\">\n",
              "    <path d=\"M120-120v-720h720v720H120Zm60-500h600v-160H180v160Zm220 220h160v-160H400v160Zm0 220h160v-160H400v160ZM180-400h160v-160H180v160Zm440 0h160v-160H620v160ZM180-180h160v-160H180v160Zm440 0h160v-160H620v160Z\"/>\n",
              "  </svg>\n",
              "    </button>\n",
              "\n",
              "  <style>\n",
              "    .colab-df-container {\n",
              "      display:flex;\n",
              "      gap: 12px;\n",
              "    }\n",
              "\n",
              "    .colab-df-convert {\n",
              "      background-color: #E8F0FE;\n",
              "      border: none;\n",
              "      border-radius: 50%;\n",
              "      cursor: pointer;\n",
              "      display: none;\n",
              "      fill: #1967D2;\n",
              "      height: 32px;\n",
              "      padding: 0 0 0 0;\n",
              "      width: 32px;\n",
              "    }\n",
              "\n",
              "    .colab-df-convert:hover {\n",
              "      background-color: #E2EBFA;\n",
              "      box-shadow: 0px 1px 2px rgba(60, 64, 67, 0.3), 0px 1px 3px 1px rgba(60, 64, 67, 0.15);\n",
              "      fill: #174EA6;\n",
              "    }\n",
              "\n",
              "    .colab-df-buttons div {\n",
              "      margin-bottom: 4px;\n",
              "    }\n",
              "\n",
              "    [theme=dark] .colab-df-convert {\n",
              "      background-color: #3B4455;\n",
              "      fill: #D2E3FC;\n",
              "    }\n",
              "\n",
              "    [theme=dark] .colab-df-convert:hover {\n",
              "      background-color: #434B5C;\n",
              "      box-shadow: 0px 1px 3px 1px rgba(0, 0, 0, 0.15);\n",
              "      filter: drop-shadow(0px 1px 2px rgba(0, 0, 0, 0.3));\n",
              "      fill: #FFFFFF;\n",
              "    }\n",
              "  </style>\n",
              "\n",
              "    <script>\n",
              "      const buttonEl =\n",
              "        document.querySelector('#df-03afa364-e169-4e24-85b5-ef5df326b0d4 button.colab-df-convert');\n",
              "      buttonEl.style.display =\n",
              "        google.colab.kernel.accessAllowed ? 'block' : 'none';\n",
              "\n",
              "      async function convertToInteractive(key) {\n",
              "        const element = document.querySelector('#df-03afa364-e169-4e24-85b5-ef5df326b0d4');\n",
              "        const dataTable =\n",
              "          await google.colab.kernel.invokeFunction('convertToInteractive',\n",
              "                                                    [key], {});\n",
              "        if (!dataTable) return;\n",
              "\n",
              "        const docLinkHtml = 'Like what you see? Visit the ' +\n",
              "          '<a target=\"_blank\" href=https://colab.research.google.com/notebooks/data_table.ipynb>data table notebook</a>'\n",
              "          + ' to learn more about interactive tables.';\n",
              "        element.innerHTML = '';\n",
              "        dataTable['output_type'] = 'display_data';\n",
              "        await google.colab.output.renderOutput(dataTable, element);\n",
              "        const docLink = document.createElement('div');\n",
              "        docLink.innerHTML = docLinkHtml;\n",
              "        element.appendChild(docLink);\n",
              "      }\n",
              "    </script>\n",
              "  </div>\n",
              "\n",
              "\n",
              "<div id=\"df-d67bcae9-c17c-4e13-8b71-931716171414\">\n",
              "  <button class=\"colab-df-quickchart\" onclick=\"quickchart('df-d67bcae9-c17c-4e13-8b71-931716171414')\"\n",
              "            title=\"Suggest charts\"\n",
              "            style=\"display:none;\">\n",
              "\n",
              "<svg xmlns=\"http://www.w3.org/2000/svg\" height=\"24px\"viewBox=\"0 0 24 24\"\n",
              "     width=\"24px\">\n",
              "    <g>\n",
              "        <path d=\"M19 3H5c-1.1 0-2 .9-2 2v14c0 1.1.9 2 2 2h14c1.1 0 2-.9 2-2V5c0-1.1-.9-2-2-2zM9 17H7v-7h2v7zm4 0h-2V7h2v10zm4 0h-2v-4h2v4z\"/>\n",
              "    </g>\n",
              "</svg>\n",
              "  </button>\n",
              "\n",
              "<style>\n",
              "  .colab-df-quickchart {\n",
              "      --bg-color: #E8F0FE;\n",
              "      --fill-color: #1967D2;\n",
              "      --hover-bg-color: #E2EBFA;\n",
              "      --hover-fill-color: #174EA6;\n",
              "      --disabled-fill-color: #AAA;\n",
              "      --disabled-bg-color: #DDD;\n",
              "  }\n",
              "\n",
              "  [theme=dark] .colab-df-quickchart {\n",
              "      --bg-color: #3B4455;\n",
              "      --fill-color: #D2E3FC;\n",
              "      --hover-bg-color: #434B5C;\n",
              "      --hover-fill-color: #FFFFFF;\n",
              "      --disabled-bg-color: #3B4455;\n",
              "      --disabled-fill-color: #666;\n",
              "  }\n",
              "\n",
              "  .colab-df-quickchart {\n",
              "    background-color: var(--bg-color);\n",
              "    border: none;\n",
              "    border-radius: 50%;\n",
              "    cursor: pointer;\n",
              "    display: none;\n",
              "    fill: var(--fill-color);\n",
              "    height: 32px;\n",
              "    padding: 0;\n",
              "    width: 32px;\n",
              "  }\n",
              "\n",
              "  .colab-df-quickchart:hover {\n",
              "    background-color: var(--hover-bg-color);\n",
              "    box-shadow: 0 1px 2px rgba(60, 64, 67, 0.3), 0 1px 3px 1px rgba(60, 64, 67, 0.15);\n",
              "    fill: var(--button-hover-fill-color);\n",
              "  }\n",
              "\n",
              "  .colab-df-quickchart-complete:disabled,\n",
              "  .colab-df-quickchart-complete:disabled:hover {\n",
              "    background-color: var(--disabled-bg-color);\n",
              "    fill: var(--disabled-fill-color);\n",
              "    box-shadow: none;\n",
              "  }\n",
              "\n",
              "  .colab-df-spinner {\n",
              "    border: 2px solid var(--fill-color);\n",
              "    border-color: transparent;\n",
              "    border-bottom-color: var(--fill-color);\n",
              "    animation:\n",
              "      spin 1s steps(1) infinite;\n",
              "  }\n",
              "\n",
              "  @keyframes spin {\n",
              "    0% {\n",
              "      border-color: transparent;\n",
              "      border-bottom-color: var(--fill-color);\n",
              "      border-left-color: var(--fill-color);\n",
              "    }\n",
              "    20% {\n",
              "      border-color: transparent;\n",
              "      border-left-color: var(--fill-color);\n",
              "      border-top-color: var(--fill-color);\n",
              "    }\n",
              "    30% {\n",
              "      border-color: transparent;\n",
              "      border-left-color: var(--fill-color);\n",
              "      border-top-color: var(--fill-color);\n",
              "      border-right-color: var(--fill-color);\n",
              "    }\n",
              "    40% {\n",
              "      border-color: transparent;\n",
              "      border-right-color: var(--fill-color);\n",
              "      border-top-color: var(--fill-color);\n",
              "    }\n",
              "    60% {\n",
              "      border-color: transparent;\n",
              "      border-right-color: var(--fill-color);\n",
              "    }\n",
              "    80% {\n",
              "      border-color: transparent;\n",
              "      border-right-color: var(--fill-color);\n",
              "      border-bottom-color: var(--fill-color);\n",
              "    }\n",
              "    90% {\n",
              "      border-color: transparent;\n",
              "      border-bottom-color: var(--fill-color);\n",
              "    }\n",
              "  }\n",
              "</style>\n",
              "\n",
              "  <script>\n",
              "    async function quickchart(key) {\n",
              "      const quickchartButtonEl =\n",
              "        document.querySelector('#' + key + ' button');\n",
              "      quickchartButtonEl.disabled = true;  // To prevent multiple clicks.\n",
              "      quickchartButtonEl.classList.add('colab-df-spinner');\n",
              "      try {\n",
              "        const charts = await google.colab.kernel.invokeFunction(\n",
              "            'suggestCharts', [key], {});\n",
              "      } catch (error) {\n",
              "        console.error('Error during call to suggestCharts:', error);\n",
              "      }\n",
              "      quickchartButtonEl.classList.remove('colab-df-spinner');\n",
              "      quickchartButtonEl.classList.add('colab-df-quickchart-complete');\n",
              "    }\n",
              "    (() => {\n",
              "      let quickchartButtonEl =\n",
              "        document.querySelector('#df-d67bcae9-c17c-4e13-8b71-931716171414 button');\n",
              "      quickchartButtonEl.style.display =\n",
              "        google.colab.kernel.accessAllowed ? 'block' : 'none';\n",
              "    })();\n",
              "  </script>\n",
              "</div>\n",
              "    </div>\n",
              "  </div>\n"
            ],
            "application/vnd.google.colaboratory.intrinsic+json": {
              "type": "dataframe",
              "variable_name": "df"
            }
          },
          "metadata": {},
          "execution_count": 137
        }
      ]
    },
    {
      "cell_type": "markdown",
      "source": [
        "В столбец transmission при скрапинге попали данные о дальности хода для электромобилей. Давайте извлечем их оттуда."
      ],
      "metadata": {
        "id": "st5gN5xNDzZ6"
      }
    },
    {
      "cell_type": "code",
      "source": [
        "import re\n",
        "\n",
        "df['travel_distance'] = 0\n",
        "\n",
        "\n",
        "def transmission_transform(row):\n",
        "  try:\n",
        "    if pd.isna(row['transmission']):\n",
        "      return row\n",
        "    if row['fuel_type'] == 'Электро':\n",
        "      number = re.findall(r'\\d+', row['transmission'])\n",
        "      if number:\n",
        "        row['travel_distance'] = int(number[0])\n",
        "        row['transmission'] = 'none'\n",
        "        return row\n",
        "    return row\n",
        "  except:\n",
        "    print(row['transmission'])\n",
        "    return row\n",
        "\n",
        "\n",
        "df = df.apply(transmission_transform, axis=1)"
      ],
      "metadata": {
        "id": "HL19pIvBERk_"
      },
      "execution_count": 139,
      "outputs": []
    },
    {
      "cell_type": "markdown",
      "source": [
        "Посмотрим, какие единицы измерения есть в числовых столбцах, чтобы правильно преобразовать данные:"
      ],
      "metadata": {
        "id": "VBfTZFaPM0mn"
      }
    },
    {
      "cell_type": "code",
      "source": [
        "print(\"Различные валюты:\", df['price'].apply(lambda x: np.nan if pd.isna(x) else re.sub(r'[\\d\\s]+', '', x)).unique())\n",
        "print(\"Различные единицы измерения расстояния:\", df['mileage'].apply(lambda x: np.nan if pd.isna(x) else re.sub(r'[\\d\\s]+', '', x)).unique())\n",
        "print(\"Различные единицы измерения объема двигателя:\", df['engine_capacity'].apply(lambda x: np.nan if pd.isna(x) else re.sub(r'[\\d\\s]+', '', x)).unique())\n",
        "print(\"Различные единицы измерения мощьности:\", df['engine_power'].apply(lambda x: np.nan if pd.isna(x) else re.sub(r'[\\d\\s]+', '', x)).unique())"
      ],
      "metadata": {
        "colab": {
          "base_uri": "https://localhost:8080/"
        },
        "id": "I0Wlq7tgM-8U",
        "outputId": "6c2192ad-fdc9-415e-d4e6-9f977f9a7f02"
      },
      "execution_count": 140,
      "outputs": [
        {
          "output_type": "stream",
          "name": "stdout",
          "text": [
            "Различные валюты: ['₽']\n",
            "Различные единицы измерения расстояния: ['км']\n",
            "Различные единицы измерения объема двигателя: ['.л' nan]\n",
            "Различные единицы измерения мощьности: ['л.с.']\n"
          ]
        }
      ]
    },
    {
      "cell_type": "markdown",
      "source": [
        "Преобразуем цену в числовую переменную."
      ],
      "metadata": {
        "id": "dDwyaB6sI2p3"
      }
    },
    {
      "cell_type": "code",
      "source": [
        "def price_to_int(x):\n",
        "  if pd.isna(x):\n",
        "    return np.nan\n",
        "  return int(x.replace('\\xa0', \"\").replace(\"₽\", \"\"))\n"
      ],
      "metadata": {
        "id": "5cdZsXqWI-uC"
      },
      "execution_count": 141,
      "outputs": []
    },
    {
      "cell_type": "code",
      "source": [
        "df['price'] = df['price'].apply(price_to_int)"
      ],
      "metadata": {
        "id": "iBGLhhlEKIbx"
      },
      "execution_count": 142,
      "outputs": []
    },
    {
      "cell_type": "markdown",
      "source": [
        "Теперь price -- числовая переменная типа int, единица измерения -- рубли."
      ],
      "metadata": {
        "id": "3zZOoNL-KtID"
      }
    },
    {
      "cell_type": "markdown",
      "source": [
        "Преобразуем mileage в числовой формат."
      ],
      "metadata": {
        "id": "9UOyUVZ6K2qS"
      }
    },
    {
      "cell_type": "code",
      "source": [
        "def mileage_to_int(x):\n",
        "  if pd.isna(x):\n",
        "    return np.nan\n",
        "  return int(x.replace('км', '').replace('\\xa0', \"\"))"
      ],
      "metadata": {
        "id": "pdQtJZZsK62j"
      },
      "execution_count": 143,
      "outputs": []
    },
    {
      "cell_type": "code",
      "source": [
        "df['mileage'] = df['mileage'].apply(mileage_to_int)"
      ],
      "metadata": {
        "id": "rvTg32Vjc9RD"
      },
      "execution_count": 144,
      "outputs": []
    },
    {
      "cell_type": "markdown",
      "source": [
        "Теперь mileage -- числовая переменная, единица измерения -- километры."
      ],
      "metadata": {
        "id": "sctZq3BIgj92"
      }
    },
    {
      "cell_type": "code",
      "source": [
        "def engine_capacity_to_int(x):\n",
        "  if pd.isna(x):\n",
        "    return np.nan\n",
        "  return float(x.replace('л', '').strip())"
      ],
      "metadata": {
        "id": "6rDHR5ywg9Zy"
      },
      "execution_count": 145,
      "outputs": []
    },
    {
      "cell_type": "code",
      "source": [
        "df['engine_capacity'] = df['engine_capacity'].apply(engine_capacity_to_int)"
      ],
      "metadata": {
        "id": "hOdNMZCyhdXt"
      },
      "execution_count": 146,
      "outputs": []
    },
    {
      "cell_type": "markdown",
      "source": [
        "Теперь engine_capacity -- числовая переменная, единицы измерения -- литры."
      ],
      "metadata": {
        "id": "nhl55xeohx3e"
      }
    },
    {
      "cell_type": "markdown",
      "source": [
        "Преобразуем engine_power в числовой формат."
      ],
      "metadata": {
        "id": "69BVCateie0u"
      }
    },
    {
      "cell_type": "code",
      "source": [
        "def engine_power_to_int(x):\n",
        "  if pd.isna(x):\n",
        "    return np.nan\n",
        "  return float(x.replace('л.с.', '').strip())"
      ],
      "metadata": {
        "id": "6-j8U3fTh6P5"
      },
      "execution_count": 147,
      "outputs": []
    },
    {
      "cell_type": "code",
      "source": [
        "df['engine_power'] = df['engine_power'].apply(engine_power_to_int)"
      ],
      "metadata": {
        "id": "MgAPwFsqiShA"
      },
      "execution_count": 148,
      "outputs": []
    },
    {
      "cell_type": "markdown",
      "source": [
        "Теперь engine_power -- числовая переменная, единицы измерения -- лошадиные силы."
      ],
      "metadata": {
        "id": "VdFGMVFQipxk"
      }
    },
    {
      "cell_type": "code",
      "source": [
        "df.dtypes"
      ],
      "metadata": {
        "colab": {
          "base_uri": "https://localhost:8080/",
          "height": 460
        },
        "id": "iZIMApaziyJn",
        "outputId": "55d28850-32d1-4d14-9180-a2e1602aa4ae"
      },
      "execution_count": 149,
      "outputs": [
        {
          "output_type": "execute_result",
          "data": {
            "text/plain": [
              "price                int64\n",
              "title               object\n",
              "year                 int64\n",
              "mileage              int64\n",
              "transmission        object\n",
              "body_type           object\n",
              "drive_type          object\n",
              "color               object\n",
              "engine_capacity    float64\n",
              "engine_power       float64\n",
              "fuel_type           object\n",
              "travel_distance      int64\n",
              "dtype: object"
            ],
            "text/html": [
              "<div>\n",
              "<style scoped>\n",
              "    .dataframe tbody tr th:only-of-type {\n",
              "        vertical-align: middle;\n",
              "    }\n",
              "\n",
              "    .dataframe tbody tr th {\n",
              "        vertical-align: top;\n",
              "    }\n",
              "\n",
              "    .dataframe thead th {\n",
              "        text-align: right;\n",
              "    }\n",
              "</style>\n",
              "<table border=\"1\" class=\"dataframe\">\n",
              "  <thead>\n",
              "    <tr style=\"text-align: right;\">\n",
              "      <th></th>\n",
              "      <th>0</th>\n",
              "    </tr>\n",
              "  </thead>\n",
              "  <tbody>\n",
              "    <tr>\n",
              "      <th>price</th>\n",
              "      <td>int64</td>\n",
              "    </tr>\n",
              "    <tr>\n",
              "      <th>title</th>\n",
              "      <td>object</td>\n",
              "    </tr>\n",
              "    <tr>\n",
              "      <th>year</th>\n",
              "      <td>int64</td>\n",
              "    </tr>\n",
              "    <tr>\n",
              "      <th>mileage</th>\n",
              "      <td>int64</td>\n",
              "    </tr>\n",
              "    <tr>\n",
              "      <th>transmission</th>\n",
              "      <td>object</td>\n",
              "    </tr>\n",
              "    <tr>\n",
              "      <th>body_type</th>\n",
              "      <td>object</td>\n",
              "    </tr>\n",
              "    <tr>\n",
              "      <th>drive_type</th>\n",
              "      <td>object</td>\n",
              "    </tr>\n",
              "    <tr>\n",
              "      <th>color</th>\n",
              "      <td>object</td>\n",
              "    </tr>\n",
              "    <tr>\n",
              "      <th>engine_capacity</th>\n",
              "      <td>float64</td>\n",
              "    </tr>\n",
              "    <tr>\n",
              "      <th>engine_power</th>\n",
              "      <td>float64</td>\n",
              "    </tr>\n",
              "    <tr>\n",
              "      <th>fuel_type</th>\n",
              "      <td>object</td>\n",
              "    </tr>\n",
              "    <tr>\n",
              "      <th>travel_distance</th>\n",
              "      <td>int64</td>\n",
              "    </tr>\n",
              "  </tbody>\n",
              "</table>\n",
              "</div><br><label><b>dtype:</b> object</label>"
            ]
          },
          "metadata": {},
          "execution_count": 149
        }
      ]
    },
    {
      "cell_type": "markdown",
      "source": [
        "Посмотрим на основные статистики наших данных."
      ],
      "metadata": {
        "id": "FMHNBS3klg1_"
      }
    },
    {
      "cell_type": "code",
      "source": [
        "df.describe(include='number')"
      ],
      "metadata": {
        "colab": {
          "base_uri": "https://localhost:8080/",
          "height": 300
        },
        "id": "OxwwAYlYj6PA",
        "outputId": "5522b70f-ca51-41f2-cb85-d43cbb91c25f"
      },
      "execution_count": 150,
      "outputs": [
        {
          "output_type": "execute_result",
          "data": {
            "text/plain": [
              "              price           year         mileage  engine_capacity  \\\n",
              "count  1.991820e+05  199182.000000   199182.000000    195576.000000   \n",
              "mean   2.305377e+06    2010.537955   175138.229825         2.315878   \n",
              "std    5.746065e+06       8.737646   118841.182301         0.899047   \n",
              "min    2.500000e+04    1990.000000        1.000000         0.400000   \n",
              "25%    5.600000e+05    2004.000000    81000.000000         1.600000   \n",
              "50%    1.200000e+06    2011.000000   170000.000000         2.000000   \n",
              "75%    2.500000e+06    2018.000000   250000.000000         2.700000   \n",
              "max    1.000000e+09    2025.000000  1000000.000000         8.300000   \n",
              "\n",
              "        engine_power  travel_distance  \n",
              "count  199182.000000    199182.000000  \n",
              "mean      188.135630         9.560417  \n",
              "std       110.511373        72.873968  \n",
              "min        10.000000         0.000000  \n",
              "25%       116.000000         0.000000  \n",
              "50%       155.000000         0.000000  \n",
              "75%       231.000000         0.000000  \n",
              "max      1548.000000      1055.000000  "
            ],
            "text/html": [
              "\n",
              "  <div id=\"df-2cc91d14-f89c-4c08-9467-2e3d07f0e129\" class=\"colab-df-container\">\n",
              "    <div>\n",
              "<style scoped>\n",
              "    .dataframe tbody tr th:only-of-type {\n",
              "        vertical-align: middle;\n",
              "    }\n",
              "\n",
              "    .dataframe tbody tr th {\n",
              "        vertical-align: top;\n",
              "    }\n",
              "\n",
              "    .dataframe thead th {\n",
              "        text-align: right;\n",
              "    }\n",
              "</style>\n",
              "<table border=\"1\" class=\"dataframe\">\n",
              "  <thead>\n",
              "    <tr style=\"text-align: right;\">\n",
              "      <th></th>\n",
              "      <th>price</th>\n",
              "      <th>year</th>\n",
              "      <th>mileage</th>\n",
              "      <th>engine_capacity</th>\n",
              "      <th>engine_power</th>\n",
              "      <th>travel_distance</th>\n",
              "    </tr>\n",
              "  </thead>\n",
              "  <tbody>\n",
              "    <tr>\n",
              "      <th>count</th>\n",
              "      <td>1.991820e+05</td>\n",
              "      <td>199182.000000</td>\n",
              "      <td>199182.000000</td>\n",
              "      <td>195576.000000</td>\n",
              "      <td>199182.000000</td>\n",
              "      <td>199182.000000</td>\n",
              "    </tr>\n",
              "    <tr>\n",
              "      <th>mean</th>\n",
              "      <td>2.305377e+06</td>\n",
              "      <td>2010.537955</td>\n",
              "      <td>175138.229825</td>\n",
              "      <td>2.315878</td>\n",
              "      <td>188.135630</td>\n",
              "      <td>9.560417</td>\n",
              "    </tr>\n",
              "    <tr>\n",
              "      <th>std</th>\n",
              "      <td>5.746065e+06</td>\n",
              "      <td>8.737646</td>\n",
              "      <td>118841.182301</td>\n",
              "      <td>0.899047</td>\n",
              "      <td>110.511373</td>\n",
              "      <td>72.873968</td>\n",
              "    </tr>\n",
              "    <tr>\n",
              "      <th>min</th>\n",
              "      <td>2.500000e+04</td>\n",
              "      <td>1990.000000</td>\n",
              "      <td>1.000000</td>\n",
              "      <td>0.400000</td>\n",
              "      <td>10.000000</td>\n",
              "      <td>0.000000</td>\n",
              "    </tr>\n",
              "    <tr>\n",
              "      <th>25%</th>\n",
              "      <td>5.600000e+05</td>\n",
              "      <td>2004.000000</td>\n",
              "      <td>81000.000000</td>\n",
              "      <td>1.600000</td>\n",
              "      <td>116.000000</td>\n",
              "      <td>0.000000</td>\n",
              "    </tr>\n",
              "    <tr>\n",
              "      <th>50%</th>\n",
              "      <td>1.200000e+06</td>\n",
              "      <td>2011.000000</td>\n",
              "      <td>170000.000000</td>\n",
              "      <td>2.000000</td>\n",
              "      <td>155.000000</td>\n",
              "      <td>0.000000</td>\n",
              "    </tr>\n",
              "    <tr>\n",
              "      <th>75%</th>\n",
              "      <td>2.500000e+06</td>\n",
              "      <td>2018.000000</td>\n",
              "      <td>250000.000000</td>\n",
              "      <td>2.700000</td>\n",
              "      <td>231.000000</td>\n",
              "      <td>0.000000</td>\n",
              "    </tr>\n",
              "    <tr>\n",
              "      <th>max</th>\n",
              "      <td>1.000000e+09</td>\n",
              "      <td>2025.000000</td>\n",
              "      <td>1000000.000000</td>\n",
              "      <td>8.300000</td>\n",
              "      <td>1548.000000</td>\n",
              "      <td>1055.000000</td>\n",
              "    </tr>\n",
              "  </tbody>\n",
              "</table>\n",
              "</div>\n",
              "    <div class=\"colab-df-buttons\">\n",
              "\n",
              "  <div class=\"colab-df-container\">\n",
              "    <button class=\"colab-df-convert\" onclick=\"convertToInteractive('df-2cc91d14-f89c-4c08-9467-2e3d07f0e129')\"\n",
              "            title=\"Convert this dataframe to an interactive table.\"\n",
              "            style=\"display:none;\">\n",
              "\n",
              "  <svg xmlns=\"http://www.w3.org/2000/svg\" height=\"24px\" viewBox=\"0 -960 960 960\">\n",
              "    <path d=\"M120-120v-720h720v720H120Zm60-500h600v-160H180v160Zm220 220h160v-160H400v160Zm0 220h160v-160H400v160ZM180-400h160v-160H180v160Zm440 0h160v-160H620v160ZM180-180h160v-160H180v160Zm440 0h160v-160H620v160Z\"/>\n",
              "  </svg>\n",
              "    </button>\n",
              "\n",
              "  <style>\n",
              "    .colab-df-container {\n",
              "      display:flex;\n",
              "      gap: 12px;\n",
              "    }\n",
              "\n",
              "    .colab-df-convert {\n",
              "      background-color: #E8F0FE;\n",
              "      border: none;\n",
              "      border-radius: 50%;\n",
              "      cursor: pointer;\n",
              "      display: none;\n",
              "      fill: #1967D2;\n",
              "      height: 32px;\n",
              "      padding: 0 0 0 0;\n",
              "      width: 32px;\n",
              "    }\n",
              "\n",
              "    .colab-df-convert:hover {\n",
              "      background-color: #E2EBFA;\n",
              "      box-shadow: 0px 1px 2px rgba(60, 64, 67, 0.3), 0px 1px 3px 1px rgba(60, 64, 67, 0.15);\n",
              "      fill: #174EA6;\n",
              "    }\n",
              "\n",
              "    .colab-df-buttons div {\n",
              "      margin-bottom: 4px;\n",
              "    }\n",
              "\n",
              "    [theme=dark] .colab-df-convert {\n",
              "      background-color: #3B4455;\n",
              "      fill: #D2E3FC;\n",
              "    }\n",
              "\n",
              "    [theme=dark] .colab-df-convert:hover {\n",
              "      background-color: #434B5C;\n",
              "      box-shadow: 0px 1px 3px 1px rgba(0, 0, 0, 0.15);\n",
              "      filter: drop-shadow(0px 1px 2px rgba(0, 0, 0, 0.3));\n",
              "      fill: #FFFFFF;\n",
              "    }\n",
              "  </style>\n",
              "\n",
              "    <script>\n",
              "      const buttonEl =\n",
              "        document.querySelector('#df-2cc91d14-f89c-4c08-9467-2e3d07f0e129 button.colab-df-convert');\n",
              "      buttonEl.style.display =\n",
              "        google.colab.kernel.accessAllowed ? 'block' : 'none';\n",
              "\n",
              "      async function convertToInteractive(key) {\n",
              "        const element = document.querySelector('#df-2cc91d14-f89c-4c08-9467-2e3d07f0e129');\n",
              "        const dataTable =\n",
              "          await google.colab.kernel.invokeFunction('convertToInteractive',\n",
              "                                                    [key], {});\n",
              "        if (!dataTable) return;\n",
              "\n",
              "        const docLinkHtml = 'Like what you see? Visit the ' +\n",
              "          '<a target=\"_blank\" href=https://colab.research.google.com/notebooks/data_table.ipynb>data table notebook</a>'\n",
              "          + ' to learn more about interactive tables.';\n",
              "        element.innerHTML = '';\n",
              "        dataTable['output_type'] = 'display_data';\n",
              "        await google.colab.output.renderOutput(dataTable, element);\n",
              "        const docLink = document.createElement('div');\n",
              "        docLink.innerHTML = docLinkHtml;\n",
              "        element.appendChild(docLink);\n",
              "      }\n",
              "    </script>\n",
              "  </div>\n",
              "\n",
              "\n",
              "<div id=\"df-502505b4-9b7a-47c9-8b0a-2852f338994c\">\n",
              "  <button class=\"colab-df-quickchart\" onclick=\"quickchart('df-502505b4-9b7a-47c9-8b0a-2852f338994c')\"\n",
              "            title=\"Suggest charts\"\n",
              "            style=\"display:none;\">\n",
              "\n",
              "<svg xmlns=\"http://www.w3.org/2000/svg\" height=\"24px\"viewBox=\"0 0 24 24\"\n",
              "     width=\"24px\">\n",
              "    <g>\n",
              "        <path d=\"M19 3H5c-1.1 0-2 .9-2 2v14c0 1.1.9 2 2 2h14c1.1 0 2-.9 2-2V5c0-1.1-.9-2-2-2zM9 17H7v-7h2v7zm4 0h-2V7h2v10zm4 0h-2v-4h2v4z\"/>\n",
              "    </g>\n",
              "</svg>\n",
              "  </button>\n",
              "\n",
              "<style>\n",
              "  .colab-df-quickchart {\n",
              "      --bg-color: #E8F0FE;\n",
              "      --fill-color: #1967D2;\n",
              "      --hover-bg-color: #E2EBFA;\n",
              "      --hover-fill-color: #174EA6;\n",
              "      --disabled-fill-color: #AAA;\n",
              "      --disabled-bg-color: #DDD;\n",
              "  }\n",
              "\n",
              "  [theme=dark] .colab-df-quickchart {\n",
              "      --bg-color: #3B4455;\n",
              "      --fill-color: #D2E3FC;\n",
              "      --hover-bg-color: #434B5C;\n",
              "      --hover-fill-color: #FFFFFF;\n",
              "      --disabled-bg-color: #3B4455;\n",
              "      --disabled-fill-color: #666;\n",
              "  }\n",
              "\n",
              "  .colab-df-quickchart {\n",
              "    background-color: var(--bg-color);\n",
              "    border: none;\n",
              "    border-radius: 50%;\n",
              "    cursor: pointer;\n",
              "    display: none;\n",
              "    fill: var(--fill-color);\n",
              "    height: 32px;\n",
              "    padding: 0;\n",
              "    width: 32px;\n",
              "  }\n",
              "\n",
              "  .colab-df-quickchart:hover {\n",
              "    background-color: var(--hover-bg-color);\n",
              "    box-shadow: 0 1px 2px rgba(60, 64, 67, 0.3), 0 1px 3px 1px rgba(60, 64, 67, 0.15);\n",
              "    fill: var(--button-hover-fill-color);\n",
              "  }\n",
              "\n",
              "  .colab-df-quickchart-complete:disabled,\n",
              "  .colab-df-quickchart-complete:disabled:hover {\n",
              "    background-color: var(--disabled-bg-color);\n",
              "    fill: var(--disabled-fill-color);\n",
              "    box-shadow: none;\n",
              "  }\n",
              "\n",
              "  .colab-df-spinner {\n",
              "    border: 2px solid var(--fill-color);\n",
              "    border-color: transparent;\n",
              "    border-bottom-color: var(--fill-color);\n",
              "    animation:\n",
              "      spin 1s steps(1) infinite;\n",
              "  }\n",
              "\n",
              "  @keyframes spin {\n",
              "    0% {\n",
              "      border-color: transparent;\n",
              "      border-bottom-color: var(--fill-color);\n",
              "      border-left-color: var(--fill-color);\n",
              "    }\n",
              "    20% {\n",
              "      border-color: transparent;\n",
              "      border-left-color: var(--fill-color);\n",
              "      border-top-color: var(--fill-color);\n",
              "    }\n",
              "    30% {\n",
              "      border-color: transparent;\n",
              "      border-left-color: var(--fill-color);\n",
              "      border-top-color: var(--fill-color);\n",
              "      border-right-color: var(--fill-color);\n",
              "    }\n",
              "    40% {\n",
              "      border-color: transparent;\n",
              "      border-right-color: var(--fill-color);\n",
              "      border-top-color: var(--fill-color);\n",
              "    }\n",
              "    60% {\n",
              "      border-color: transparent;\n",
              "      border-right-color: var(--fill-color);\n",
              "    }\n",
              "    80% {\n",
              "      border-color: transparent;\n",
              "      border-right-color: var(--fill-color);\n",
              "      border-bottom-color: var(--fill-color);\n",
              "    }\n",
              "    90% {\n",
              "      border-color: transparent;\n",
              "      border-bottom-color: var(--fill-color);\n",
              "    }\n",
              "  }\n",
              "</style>\n",
              "\n",
              "  <script>\n",
              "    async function quickchart(key) {\n",
              "      const quickchartButtonEl =\n",
              "        document.querySelector('#' + key + ' button');\n",
              "      quickchartButtonEl.disabled = true;  // To prevent multiple clicks.\n",
              "      quickchartButtonEl.classList.add('colab-df-spinner');\n",
              "      try {\n",
              "        const charts = await google.colab.kernel.invokeFunction(\n",
              "            'suggestCharts', [key], {});\n",
              "      } catch (error) {\n",
              "        console.error('Error during call to suggestCharts:', error);\n",
              "      }\n",
              "      quickchartButtonEl.classList.remove('colab-df-spinner');\n",
              "      quickchartButtonEl.classList.add('colab-df-quickchart-complete');\n",
              "    }\n",
              "    (() => {\n",
              "      let quickchartButtonEl =\n",
              "        document.querySelector('#df-502505b4-9b7a-47c9-8b0a-2852f338994c button');\n",
              "      quickchartButtonEl.style.display =\n",
              "        google.colab.kernel.accessAllowed ? 'block' : 'none';\n",
              "    })();\n",
              "  </script>\n",
              "</div>\n",
              "    </div>\n",
              "  </div>\n"
            ],
            "application/vnd.google.colaboratory.intrinsic+json": {
              "type": "dataframe",
              "summary": "{\n  \"name\": \"df\",\n  \"rows\": 8,\n  \"fields\": [\n    {\n      \"column\": \"price\",\n      \"properties\": {\n        \"dtype\": \"number\",\n        \"std\": 352925088.6028586,\n        \"min\": 25000.0,\n        \"max\": 1000000000.0,\n        \"num_unique_values\": 8,\n        \"samples\": [\n          2305376.749615929,\n          1200000.0,\n          199182.0\n        ],\n        \"semantic_type\": \"\",\n        \"description\": \"\"\n      }\n    },\n    {\n      \"column\": \"year\",\n      \"properties\": {\n        \"dtype\": \"number\",\n        \"std\": 69815.49418078248,\n        \"min\": 8.737646224932492,\n        \"max\": 199182.0,\n        \"num_unique_values\": 8,\n        \"samples\": [\n          2010.537955236919,\n          2011.0,\n          199182.0\n        ],\n        \"semantic_type\": \"\",\n        \"description\": \"\"\n      }\n    },\n    {\n      \"column\": \"mileage\",\n      \"properties\": {\n        \"dtype\": \"number\",\n        \"std\": 312900.1733871355,\n        \"min\": 1.0,\n        \"max\": 1000000.0,\n        \"num_unique_values\": 8,\n        \"samples\": [\n          175138.22982498418,\n          170000.0,\n          199182.0\n        ],\n        \"semantic_type\": \"\",\n        \"description\": \"\"\n      }\n    },\n    {\n      \"column\": \"engine_capacity\",\n      \"properties\": {\n        \"dtype\": \"number\",\n        \"std\": 69145.6379690561,\n        \"min\": 0.4,\n        \"max\": 195576.0,\n        \"num_unique_values\": 8,\n        \"samples\": [\n          2.3158782263672433,\n          2.0,\n          195576.0\n        ],\n        \"semantic_type\": \"\",\n        \"description\": \"\"\n      }\n    },\n    {\n      \"column\": \"engine_power\",\n      \"properties\": {\n        \"dtype\": \"number\",\n        \"std\": 70304.10974420678,\n        \"min\": 10.0,\n        \"max\": 199182.0,\n        \"num_unique_values\": 8,\n        \"samples\": [\n          188.13562972557762,\n          155.0,\n          199182.0\n        ],\n        \"semantic_type\": \"\",\n        \"description\": \"\"\n      }\n    },\n    {\n      \"column\": \"travel_distance\",\n      \"properties\": {\n        \"dtype\": \"number\",\n        \"std\": 70364.97005609993,\n        \"min\": 0.0,\n        \"max\": 199182.0,\n        \"num_unique_values\": 5,\n        \"samples\": [\n          9.56041710596339,\n          1055.0,\n          72.87396799607932\n        ],\n        \"semantic_type\": \"\",\n        \"description\": \"\"\n      }\n    }\n  ]\n}"
            }
          },
          "metadata": {},
          "execution_count": 150
        }
      ]
    },
    {
      "cell_type": "markdown",
      "source": [
        "Как мы видим, отрицательных значений в данных нет. Экстремально больших значений в данных тоже нет."
      ],
      "metadata": {
        "id": "bWwzo8dXB9mz"
      }
    },
    {
      "cell_type": "code",
      "source": [
        "df.describe(include='object')"
      ],
      "metadata": {
        "colab": {
          "base_uri": "https://localhost:8080/",
          "height": 175
        },
        "id": "L7Q5OOWfkCKB",
        "outputId": "fe5062d8-0355-4a2b-ecb7-8c03c9af886b"
      },
      "execution_count": 151,
      "outputs": [
        {
          "output_type": "execute_result",
          "data": {
            "text/plain": [
              "                  title transmission          body_type drive_type   color  \\\n",
              "count            199182       199182             199182     199182  199176   \n",
              "unique             8182            5                 28          3      16   \n",
              "top     Lada (ВАЗ) 2110      автомат  внедорожник 5 дв.     полный  чёрный   \n",
              "freq               1130       112515              83983      91939   48846   \n",
              "\n",
              "       fuel_type  \n",
              "count     199182  \n",
              "unique         5  \n",
              "top       Бензин  \n",
              "freq      157290  "
            ],
            "text/html": [
              "\n",
              "  <div id=\"df-5e632573-ada1-43b7-bb78-2248abb91b12\" class=\"colab-df-container\">\n",
              "    <div>\n",
              "<style scoped>\n",
              "    .dataframe tbody tr th:only-of-type {\n",
              "        vertical-align: middle;\n",
              "    }\n",
              "\n",
              "    .dataframe tbody tr th {\n",
              "        vertical-align: top;\n",
              "    }\n",
              "\n",
              "    .dataframe thead th {\n",
              "        text-align: right;\n",
              "    }\n",
              "</style>\n",
              "<table border=\"1\" class=\"dataframe\">\n",
              "  <thead>\n",
              "    <tr style=\"text-align: right;\">\n",
              "      <th></th>\n",
              "      <th>title</th>\n",
              "      <th>transmission</th>\n",
              "      <th>body_type</th>\n",
              "      <th>drive_type</th>\n",
              "      <th>color</th>\n",
              "      <th>fuel_type</th>\n",
              "    </tr>\n",
              "  </thead>\n",
              "  <tbody>\n",
              "    <tr>\n",
              "      <th>count</th>\n",
              "      <td>199182</td>\n",
              "      <td>199182</td>\n",
              "      <td>199182</td>\n",
              "      <td>199182</td>\n",
              "      <td>199176</td>\n",
              "      <td>199182</td>\n",
              "    </tr>\n",
              "    <tr>\n",
              "      <th>unique</th>\n",
              "      <td>8182</td>\n",
              "      <td>5</td>\n",
              "      <td>28</td>\n",
              "      <td>3</td>\n",
              "      <td>16</td>\n",
              "      <td>5</td>\n",
              "    </tr>\n",
              "    <tr>\n",
              "      <th>top</th>\n",
              "      <td>Lada (ВАЗ) 2110</td>\n",
              "      <td>автомат</td>\n",
              "      <td>внедорожник 5 дв.</td>\n",
              "      <td>полный</td>\n",
              "      <td>чёрный</td>\n",
              "      <td>Бензин</td>\n",
              "    </tr>\n",
              "    <tr>\n",
              "      <th>freq</th>\n",
              "      <td>1130</td>\n",
              "      <td>112515</td>\n",
              "      <td>83983</td>\n",
              "      <td>91939</td>\n",
              "      <td>48846</td>\n",
              "      <td>157290</td>\n",
              "    </tr>\n",
              "  </tbody>\n",
              "</table>\n",
              "</div>\n",
              "    <div class=\"colab-df-buttons\">\n",
              "\n",
              "  <div class=\"colab-df-container\">\n",
              "    <button class=\"colab-df-convert\" onclick=\"convertToInteractive('df-5e632573-ada1-43b7-bb78-2248abb91b12')\"\n",
              "            title=\"Convert this dataframe to an interactive table.\"\n",
              "            style=\"display:none;\">\n",
              "\n",
              "  <svg xmlns=\"http://www.w3.org/2000/svg\" height=\"24px\" viewBox=\"0 -960 960 960\">\n",
              "    <path d=\"M120-120v-720h720v720H120Zm60-500h600v-160H180v160Zm220 220h160v-160H400v160Zm0 220h160v-160H400v160ZM180-400h160v-160H180v160Zm440 0h160v-160H620v160ZM180-180h160v-160H180v160Zm440 0h160v-160H620v160Z\"/>\n",
              "  </svg>\n",
              "    </button>\n",
              "\n",
              "  <style>\n",
              "    .colab-df-container {\n",
              "      display:flex;\n",
              "      gap: 12px;\n",
              "    }\n",
              "\n",
              "    .colab-df-convert {\n",
              "      background-color: #E8F0FE;\n",
              "      border: none;\n",
              "      border-radius: 50%;\n",
              "      cursor: pointer;\n",
              "      display: none;\n",
              "      fill: #1967D2;\n",
              "      height: 32px;\n",
              "      padding: 0 0 0 0;\n",
              "      width: 32px;\n",
              "    }\n",
              "\n",
              "    .colab-df-convert:hover {\n",
              "      background-color: #E2EBFA;\n",
              "      box-shadow: 0px 1px 2px rgba(60, 64, 67, 0.3), 0px 1px 3px 1px rgba(60, 64, 67, 0.15);\n",
              "      fill: #174EA6;\n",
              "    }\n",
              "\n",
              "    .colab-df-buttons div {\n",
              "      margin-bottom: 4px;\n",
              "    }\n",
              "\n",
              "    [theme=dark] .colab-df-convert {\n",
              "      background-color: #3B4455;\n",
              "      fill: #D2E3FC;\n",
              "    }\n",
              "\n",
              "    [theme=dark] .colab-df-convert:hover {\n",
              "      background-color: #434B5C;\n",
              "      box-shadow: 0px 1px 3px 1px rgba(0, 0, 0, 0.15);\n",
              "      filter: drop-shadow(0px 1px 2px rgba(0, 0, 0, 0.3));\n",
              "      fill: #FFFFFF;\n",
              "    }\n",
              "  </style>\n",
              "\n",
              "    <script>\n",
              "      const buttonEl =\n",
              "        document.querySelector('#df-5e632573-ada1-43b7-bb78-2248abb91b12 button.colab-df-convert');\n",
              "      buttonEl.style.display =\n",
              "        google.colab.kernel.accessAllowed ? 'block' : 'none';\n",
              "\n",
              "      async function convertToInteractive(key) {\n",
              "        const element = document.querySelector('#df-5e632573-ada1-43b7-bb78-2248abb91b12');\n",
              "        const dataTable =\n",
              "          await google.colab.kernel.invokeFunction('convertToInteractive',\n",
              "                                                    [key], {});\n",
              "        if (!dataTable) return;\n",
              "\n",
              "        const docLinkHtml = 'Like what you see? Visit the ' +\n",
              "          '<a target=\"_blank\" href=https://colab.research.google.com/notebooks/data_table.ipynb>data table notebook</a>'\n",
              "          + ' to learn more about interactive tables.';\n",
              "        element.innerHTML = '';\n",
              "        dataTable['output_type'] = 'display_data';\n",
              "        await google.colab.output.renderOutput(dataTable, element);\n",
              "        const docLink = document.createElement('div');\n",
              "        docLink.innerHTML = docLinkHtml;\n",
              "        element.appendChild(docLink);\n",
              "      }\n",
              "    </script>\n",
              "  </div>\n",
              "\n",
              "\n",
              "<div id=\"df-117ceac5-8d67-461b-812f-15671e8f5991\">\n",
              "  <button class=\"colab-df-quickchart\" onclick=\"quickchart('df-117ceac5-8d67-461b-812f-15671e8f5991')\"\n",
              "            title=\"Suggest charts\"\n",
              "            style=\"display:none;\">\n",
              "\n",
              "<svg xmlns=\"http://www.w3.org/2000/svg\" height=\"24px\"viewBox=\"0 0 24 24\"\n",
              "     width=\"24px\">\n",
              "    <g>\n",
              "        <path d=\"M19 3H5c-1.1 0-2 .9-2 2v14c0 1.1.9 2 2 2h14c1.1 0 2-.9 2-2V5c0-1.1-.9-2-2-2zM9 17H7v-7h2v7zm4 0h-2V7h2v10zm4 0h-2v-4h2v4z\"/>\n",
              "    </g>\n",
              "</svg>\n",
              "  </button>\n",
              "\n",
              "<style>\n",
              "  .colab-df-quickchart {\n",
              "      --bg-color: #E8F0FE;\n",
              "      --fill-color: #1967D2;\n",
              "      --hover-bg-color: #E2EBFA;\n",
              "      --hover-fill-color: #174EA6;\n",
              "      --disabled-fill-color: #AAA;\n",
              "      --disabled-bg-color: #DDD;\n",
              "  }\n",
              "\n",
              "  [theme=dark] .colab-df-quickchart {\n",
              "      --bg-color: #3B4455;\n",
              "      --fill-color: #D2E3FC;\n",
              "      --hover-bg-color: #434B5C;\n",
              "      --hover-fill-color: #FFFFFF;\n",
              "      --disabled-bg-color: #3B4455;\n",
              "      --disabled-fill-color: #666;\n",
              "  }\n",
              "\n",
              "  .colab-df-quickchart {\n",
              "    background-color: var(--bg-color);\n",
              "    border: none;\n",
              "    border-radius: 50%;\n",
              "    cursor: pointer;\n",
              "    display: none;\n",
              "    fill: var(--fill-color);\n",
              "    height: 32px;\n",
              "    padding: 0;\n",
              "    width: 32px;\n",
              "  }\n",
              "\n",
              "  .colab-df-quickchart:hover {\n",
              "    background-color: var(--hover-bg-color);\n",
              "    box-shadow: 0 1px 2px rgba(60, 64, 67, 0.3), 0 1px 3px 1px rgba(60, 64, 67, 0.15);\n",
              "    fill: var(--button-hover-fill-color);\n",
              "  }\n",
              "\n",
              "  .colab-df-quickchart-complete:disabled,\n",
              "  .colab-df-quickchart-complete:disabled:hover {\n",
              "    background-color: var(--disabled-bg-color);\n",
              "    fill: var(--disabled-fill-color);\n",
              "    box-shadow: none;\n",
              "  }\n",
              "\n",
              "  .colab-df-spinner {\n",
              "    border: 2px solid var(--fill-color);\n",
              "    border-color: transparent;\n",
              "    border-bottom-color: var(--fill-color);\n",
              "    animation:\n",
              "      spin 1s steps(1) infinite;\n",
              "  }\n",
              "\n",
              "  @keyframes spin {\n",
              "    0% {\n",
              "      border-color: transparent;\n",
              "      border-bottom-color: var(--fill-color);\n",
              "      border-left-color: var(--fill-color);\n",
              "    }\n",
              "    20% {\n",
              "      border-color: transparent;\n",
              "      border-left-color: var(--fill-color);\n",
              "      border-top-color: var(--fill-color);\n",
              "    }\n",
              "    30% {\n",
              "      border-color: transparent;\n",
              "      border-left-color: var(--fill-color);\n",
              "      border-top-color: var(--fill-color);\n",
              "      border-right-color: var(--fill-color);\n",
              "    }\n",
              "    40% {\n",
              "      border-color: transparent;\n",
              "      border-right-color: var(--fill-color);\n",
              "      border-top-color: var(--fill-color);\n",
              "    }\n",
              "    60% {\n",
              "      border-color: transparent;\n",
              "      border-right-color: var(--fill-color);\n",
              "    }\n",
              "    80% {\n",
              "      border-color: transparent;\n",
              "      border-right-color: var(--fill-color);\n",
              "      border-bottom-color: var(--fill-color);\n",
              "    }\n",
              "    90% {\n",
              "      border-color: transparent;\n",
              "      border-bottom-color: var(--fill-color);\n",
              "    }\n",
              "  }\n",
              "</style>\n",
              "\n",
              "  <script>\n",
              "    async function quickchart(key) {\n",
              "      const quickchartButtonEl =\n",
              "        document.querySelector('#' + key + ' button');\n",
              "      quickchartButtonEl.disabled = true;  // To prevent multiple clicks.\n",
              "      quickchartButtonEl.classList.add('colab-df-spinner');\n",
              "      try {\n",
              "        const charts = await google.colab.kernel.invokeFunction(\n",
              "            'suggestCharts', [key], {});\n",
              "      } catch (error) {\n",
              "        console.error('Error during call to suggestCharts:', error);\n",
              "      }\n",
              "      quickchartButtonEl.classList.remove('colab-df-spinner');\n",
              "      quickchartButtonEl.classList.add('colab-df-quickchart-complete');\n",
              "    }\n",
              "    (() => {\n",
              "      let quickchartButtonEl =\n",
              "        document.querySelector('#df-117ceac5-8d67-461b-812f-15671e8f5991 button');\n",
              "      quickchartButtonEl.style.display =\n",
              "        google.colab.kernel.accessAllowed ? 'block' : 'none';\n",
              "    })();\n",
              "  </script>\n",
              "</div>\n",
              "    </div>\n",
              "  </div>\n"
            ],
            "application/vnd.google.colaboratory.intrinsic+json": {
              "type": "dataframe",
              "summary": "{\n  \"name\": \"df\",\n  \"rows\": 4,\n  \"fields\": [\n    {\n      \"column\": \"title\",\n      \"properties\": {\n        \"dtype\": \"string\",\n        \"num_unique_values\": 4,\n        \"samples\": [\n          8182,\n          \"1130\",\n          \"199182\"\n        ],\n        \"semantic_type\": \"\",\n        \"description\": \"\"\n      }\n    },\n    {\n      \"column\": \"transmission\",\n      \"properties\": {\n        \"dtype\": \"string\",\n        \"num_unique_values\": 4,\n        \"samples\": [\n          5,\n          \"112515\",\n          \"199182\"\n        ],\n        \"semantic_type\": \"\",\n        \"description\": \"\"\n      }\n    },\n    {\n      \"column\": \"body_type\",\n      \"properties\": {\n        \"dtype\": \"string\",\n        \"num_unique_values\": 4,\n        \"samples\": [\n          28,\n          \"83983\",\n          \"199182\"\n        ],\n        \"semantic_type\": \"\",\n        \"description\": \"\"\n      }\n    },\n    {\n      \"column\": \"drive_type\",\n      \"properties\": {\n        \"dtype\": \"string\",\n        \"num_unique_values\": 4,\n        \"samples\": [\n          3,\n          \"91939\",\n          \"199182\"\n        ],\n        \"semantic_type\": \"\",\n        \"description\": \"\"\n      }\n    },\n    {\n      \"column\": \"color\",\n      \"properties\": {\n        \"dtype\": \"string\",\n        \"num_unique_values\": 4,\n        \"samples\": [\n          16,\n          \"48846\",\n          \"199176\"\n        ],\n        \"semantic_type\": \"\",\n        \"description\": \"\"\n      }\n    },\n    {\n      \"column\": \"fuel_type\",\n      \"properties\": {\n        \"dtype\": \"string\",\n        \"num_unique_values\": 4,\n        \"samples\": [\n          5,\n          \"157290\",\n          \"199182\"\n        ],\n        \"semantic_type\": \"\",\n        \"description\": \"\"\n      }\n    }\n  ]\n}"
            }
          },
          "metadata": {},
          "execution_count": 151
        }
      ]
    },
    {
      "cell_type": "markdown",
      "source": [
        "Давайте посмотрим на уникальные значения в данных:"
      ],
      "metadata": {
        "id": "tKMtBssbHEpF"
      }
    },
    {
      "cell_type": "markdown",
      "source": [
        "Посмотрим, есть ли в данных пропуски."
      ],
      "metadata": {
        "id": "3M8JQY-0lt_d"
      }
    },
    {
      "cell_type": "code",
      "source": [
        "df.isna().sum()"
      ],
      "metadata": {
        "colab": {
          "base_uri": "https://localhost:8080/",
          "height": 460
        },
        "id": "Uz0WgSMXlxXA",
        "outputId": "68c39d8f-ed7c-4f27-931c-f7d1d333baaf"
      },
      "execution_count": 159,
      "outputs": [
        {
          "output_type": "execute_result",
          "data": {
            "text/plain": [
              "price                 0\n",
              "title                 0\n",
              "year                  0\n",
              "mileage               0\n",
              "transmission          0\n",
              "body_type             0\n",
              "drive_type            0\n",
              "color                 6\n",
              "engine_capacity    3606\n",
              "engine_power          0\n",
              "fuel_type             0\n",
              "travel_distance       0\n",
              "dtype: int64"
            ],
            "text/html": [
              "<div>\n",
              "<style scoped>\n",
              "    .dataframe tbody tr th:only-of-type {\n",
              "        vertical-align: middle;\n",
              "    }\n",
              "\n",
              "    .dataframe tbody tr th {\n",
              "        vertical-align: top;\n",
              "    }\n",
              "\n",
              "    .dataframe thead th {\n",
              "        text-align: right;\n",
              "    }\n",
              "</style>\n",
              "<table border=\"1\" class=\"dataframe\">\n",
              "  <thead>\n",
              "    <tr style=\"text-align: right;\">\n",
              "      <th></th>\n",
              "      <th>0</th>\n",
              "    </tr>\n",
              "  </thead>\n",
              "  <tbody>\n",
              "    <tr>\n",
              "      <th>price</th>\n",
              "      <td>0</td>\n",
              "    </tr>\n",
              "    <tr>\n",
              "      <th>title</th>\n",
              "      <td>0</td>\n",
              "    </tr>\n",
              "    <tr>\n",
              "      <th>year</th>\n",
              "      <td>0</td>\n",
              "    </tr>\n",
              "    <tr>\n",
              "      <th>mileage</th>\n",
              "      <td>0</td>\n",
              "    </tr>\n",
              "    <tr>\n",
              "      <th>transmission</th>\n",
              "      <td>0</td>\n",
              "    </tr>\n",
              "    <tr>\n",
              "      <th>body_type</th>\n",
              "      <td>0</td>\n",
              "    </tr>\n",
              "    <tr>\n",
              "      <th>drive_type</th>\n",
              "      <td>0</td>\n",
              "    </tr>\n",
              "    <tr>\n",
              "      <th>color</th>\n",
              "      <td>6</td>\n",
              "    </tr>\n",
              "    <tr>\n",
              "      <th>engine_capacity</th>\n",
              "      <td>3606</td>\n",
              "    </tr>\n",
              "    <tr>\n",
              "      <th>engine_power</th>\n",
              "      <td>0</td>\n",
              "    </tr>\n",
              "    <tr>\n",
              "      <th>fuel_type</th>\n",
              "      <td>0</td>\n",
              "    </tr>\n",
              "    <tr>\n",
              "      <th>travel_distance</th>\n",
              "      <td>0</td>\n",
              "    </tr>\n",
              "  </tbody>\n",
              "</table>\n",
              "</div><br><label><b>dtype:</b> int64</label>"
            ]
          },
          "metadata": {},
          "execution_count": 159
        }
      ]
    },
    {
      "cell_type": "markdown",
      "source": [
        "Посмотрим на процент пропусков в данных:"
      ],
      "metadata": {
        "id": "9XpamdoOp5yH"
      }
    },
    {
      "cell_type": "code",
      "source": [
        "df.isna().mean()*100"
      ],
      "metadata": {
        "colab": {
          "base_uri": "https://localhost:8080/",
          "height": 460
        },
        "id": "TcvLzbpxomjL",
        "outputId": "de97320f-cebf-4de0-f5d0-eb006be648bc"
      },
      "execution_count": 160,
      "outputs": [
        {
          "output_type": "execute_result",
          "data": {
            "text/plain": [
              "price              0.000000\n",
              "title              0.000000\n",
              "year               0.000000\n",
              "mileage            0.000000\n",
              "transmission       0.000000\n",
              "body_type          0.000000\n",
              "drive_type         0.000000\n",
              "color              0.003012\n",
              "engine_capacity    1.810405\n",
              "engine_power       0.000000\n",
              "fuel_type          0.000000\n",
              "travel_distance    0.000000\n",
              "dtype: float64"
            ],
            "text/html": [
              "<div>\n",
              "<style scoped>\n",
              "    .dataframe tbody tr th:only-of-type {\n",
              "        vertical-align: middle;\n",
              "    }\n",
              "\n",
              "    .dataframe tbody tr th {\n",
              "        vertical-align: top;\n",
              "    }\n",
              "\n",
              "    .dataframe thead th {\n",
              "        text-align: right;\n",
              "    }\n",
              "</style>\n",
              "<table border=\"1\" class=\"dataframe\">\n",
              "  <thead>\n",
              "    <tr style=\"text-align: right;\">\n",
              "      <th></th>\n",
              "      <th>0</th>\n",
              "    </tr>\n",
              "  </thead>\n",
              "  <tbody>\n",
              "    <tr>\n",
              "      <th>price</th>\n",
              "      <td>0.000000</td>\n",
              "    </tr>\n",
              "    <tr>\n",
              "      <th>title</th>\n",
              "      <td>0.000000</td>\n",
              "    </tr>\n",
              "    <tr>\n",
              "      <th>year</th>\n",
              "      <td>0.000000</td>\n",
              "    </tr>\n",
              "    <tr>\n",
              "      <th>mileage</th>\n",
              "      <td>0.000000</td>\n",
              "    </tr>\n",
              "    <tr>\n",
              "      <th>transmission</th>\n",
              "      <td>0.000000</td>\n",
              "    </tr>\n",
              "    <tr>\n",
              "      <th>body_type</th>\n",
              "      <td>0.000000</td>\n",
              "    </tr>\n",
              "    <tr>\n",
              "      <th>drive_type</th>\n",
              "      <td>0.000000</td>\n",
              "    </tr>\n",
              "    <tr>\n",
              "      <th>color</th>\n",
              "      <td>0.003012</td>\n",
              "    </tr>\n",
              "    <tr>\n",
              "      <th>engine_capacity</th>\n",
              "      <td>1.810405</td>\n",
              "    </tr>\n",
              "    <tr>\n",
              "      <th>engine_power</th>\n",
              "      <td>0.000000</td>\n",
              "    </tr>\n",
              "    <tr>\n",
              "      <th>fuel_type</th>\n",
              "      <td>0.000000</td>\n",
              "    </tr>\n",
              "    <tr>\n",
              "      <th>travel_distance</th>\n",
              "      <td>0.000000</td>\n",
              "    </tr>\n",
              "  </tbody>\n",
              "</table>\n",
              "</div><br><label><b>dtype:</b> float64</label>"
            ]
          },
          "metadata": {},
          "execution_count": 160
        }
      ]
    },
    {
      "cell_type": "markdown",
      "source": [
        "Пропущенные значения в engine_capacity -- это данные, в которых тип двигателя -- Электро. У такого двигателя нет объема.\n",
        "\n",
        "Пропусков в цвете всего 5, скорее всего их не указал продавец или при скрапинге страница не успела прогрузить цвет."
      ],
      "metadata": {
        "id": "2ALqFwXxmZ-i"
      }
    },
    {
      "cell_type": "code",
      "source": [
        "df[df['fuel_type'] == 'Электро'].shape"
      ],
      "metadata": {
        "colab": {
          "base_uri": "https://localhost:8080/"
        },
        "id": "k80P_ii4uX0X",
        "outputId": "c3385c80-c1bb-4bc0-95f9-9a68b06d8be8"
      },
      "execution_count": 161,
      "outputs": [
        {
          "output_type": "execute_result",
          "data": {
            "text/plain": [
              "(3606, 12)"
            ]
          },
          "metadata": {},
          "execution_count": 161
        }
      ]
    },
    {
      "cell_type": "markdown",
      "source": [
        "color мы заполним самым популярным значением.\n"
      ],
      "metadata": {
        "id": "U8ffrjTgrH6s"
      }
    },
    {
      "cell_type": "code",
      "source": [
        "from sklearn.impute import SimpleImputer\n",
        "\n",
        "imputer = SimpleImputer(strategy='most_frequent')\n",
        "df['color'] = imputer.fit_transform(df[['color']]).ravel()"
      ],
      "metadata": {
        "id": "E3QwypHUrUXb"
      },
      "execution_count": 162,
      "outputs": []
    },
    {
      "cell_type": "code",
      "source": [
        "df['color'].isna().sum()"
      ],
      "metadata": {
        "colab": {
          "base_uri": "https://localhost:8080/"
        },
        "id": "ZqXCUStBs_yg",
        "outputId": "640a074a-0d0b-4009-b14a-700409537d8f"
      },
      "execution_count": 163,
      "outputs": [
        {
          "output_type": "execute_result",
          "data": {
            "text/plain": [
              "0"
            ]
          },
          "metadata": {},
          "execution_count": 163
        }
      ]
    },
    {
      "cell_type": "markdown",
      "source": [
        "Теперь заполним все пропуски в engine_capacity нулями"
      ],
      "metadata": {
        "id": "cjl_h68ptEzd"
      }
    },
    {
      "cell_type": "code",
      "source": [
        "df['engine_capacity'] = df['engine_capacity'].fillna(0)"
      ],
      "metadata": {
        "id": "fhbqy0Bewocg"
      },
      "execution_count": 164,
      "outputs": []
    },
    {
      "cell_type": "code",
      "source": [
        "df['engine_capacity'].isna().sum()"
      ],
      "metadata": {
        "colab": {
          "base_uri": "https://localhost:8080/"
        },
        "id": "3lrFve1qwzC_",
        "outputId": "9ad5b23f-381e-4973-bfb4-4a5e3b2ffd76"
      },
      "execution_count": 165,
      "outputs": [
        {
          "output_type": "execute_result",
          "data": {
            "text/plain": [
              "0"
            ]
          },
          "metadata": {},
          "execution_count": 165
        }
      ]
    },
    {
      "cell_type": "code",
      "source": [
        "df.isna().sum().sum()"
      ],
      "metadata": {
        "colab": {
          "base_uri": "https://localhost:8080/"
        },
        "id": "yjLIBTUJw8hG",
        "outputId": "967ac9a1-93ee-4bdc-953b-0533abe5c683"
      },
      "execution_count": 166,
      "outputs": [
        {
          "output_type": "execute_result",
          "data": {
            "text/plain": [
              "0"
            ]
          },
          "metadata": {},
          "execution_count": 166
        }
      ]
    },
    {
      "cell_type": "markdown",
      "source": [
        "Построим boxplot для всех числовых признаков, чтобы посмотреть на распределение данных (на travel_distance посмотрим потом, так там большинство нулей)."
      ],
      "metadata": {
        "id": "wEkduPFZJxD9"
      }
    },
    {
      "cell_type": "code",
      "source": [
        "plt.figure(figsize=(10, 6))\n",
        "\n",
        "cols = ['price', 'year', 'mileage', 'engine_capacity', 'engine_power']\n",
        "\n",
        "for i, col in enumerate(cols):\n",
        "    plt.subplot(1, len(cols), i + 1)\n",
        "    sns.boxplot(y=df[col])\n",
        "    plt.title(col)\n",
        "\n",
        "plt.tight_layout()\n",
        "plt.show()"
      ],
      "metadata": {
        "colab": {
          "base_uri": "https://localhost:8080/",
          "height": 577
        },
        "id": "vrNsW6szJBlq",
        "outputId": "5b51b901-f243-4dce-87ad-1ecab617ced4"
      },
      "execution_count": 180,
      "outputs": [
        {
          "output_type": "display_data",
          "data": {
            "text/plain": [
              "<Figure size 1000x600 with 5 Axes>"
            ],
            "image/png": "[encoded data removed]"
          },
          "metadata": {}
        }
      ]
    }
  ]
}