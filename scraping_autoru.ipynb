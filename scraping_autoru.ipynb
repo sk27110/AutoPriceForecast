{
  "nbformat": 4,
  "nbformat_minor": 0,
  "metadata": {
    "colab": {
      "provenance": [],
      "authorship_tag": "ABX9TyM7S2ouLY8g2zJ8jS/x8URh",
      "include_colab_link": true
    },
    "kernelspec": {
      "name": "python3",
      "display_name": "Python 3"
    },
    "language_info": {
      "name": "python"
    }
  },
  "cells": [
    {
      "cell_type": "markdown",
      "metadata": {
        "id": "view-in-github",
        "colab_type": "text"
      },
      "source": [
        "<a href=\"https://colab.research.google.com/github/sk27110/AutoPriceForecast/blob/main/scraping_autoru.ipynb\" target=\"_parent\"><img src=\"https://colab.research.google.com/assets/colab-badge.svg\" alt=\"Open In Colab\"/></a>"
      ]
    },
    {
      "cell_type": "code",
      "execution_count": 1,
      "metadata": {
        "id": "i8JFBDUrsB-7"
      },
      "outputs": [],
      "source": [
        "import numpy as np\n",
        "import pandas as pd\n",
        "import sys\n",
        "import time\n",
        "import datetime\n",
        "import requests as r\n",
        "import json\n",
        "from bs4 import BeautifulSoup\n",
        "from pandas import Series\n",
        "import requests as r, json\n",
        "import re\n",
        "\n",
        "\n",
        "START_URL='https://auto.ru/moskva/cars/used/'"
      ]
    },
    {
      "cell_type": "code",
      "source": [
        "pages_url_list=[]\n",
        "\n",
        "for i in range(1, 200):\n",
        "    response = r.get( START_URL+'?page=%s'%i)\n",
        "    page = BeautifulSoup(response.text, 'html.parser')\n",
        "    for link in page.findAll('a',{\"class\": \"Link ListingItemTitle__link\"}):\n",
        "        try:\n",
        "            pages_url_list.append(link['href'])\n",
        "        except:\n",
        "            pass"
      ],
      "metadata": {
        "id": "Ub6W-NAosKCt"
      },
      "execution_count": 3,
      "outputs": []
    },
    {
      "cell_type": "code",
      "source": [
        "cars_list = []\n",
        "\n",
        "for item in pages_url_list:\n",
        "  response = r.get(item)\n",
        "  response.encoding = 'utf8'\n",
        "  page = BeautifulSoup(response.text, 'html.parser')\n",
        "  price = page.find('span', 'OfferPriceCaption__price')\n",
        "  data = page.find('ul', 'CardInfo__list-MZpc1')\n",
        "  car_info = {}\n",
        "  if data and price:\n",
        "    price = price.string\n",
        "    price_number = re.sub(r'\\s+', '', price).replace('₽', '')\n",
        "    car_info['price'] = price_number\n",
        "    for row in data.find_all('li', class_='CardInfoRow'):\n",
        "      key = row.find('div', class_='CardInfoRow__cell').text.strip()\n",
        "      value = row.find_all('div', class_='CardInfoRow__cell')[1].text.strip()\n",
        "      car_info[key] = re.sub(r'\\s+', '', value)\n",
        "    cars_list.append(car_info)\n",
        "\n",
        "\n",
        "df = pd.DataFrame(cars_list)\n"
      ],
      "metadata": {
        "id": "F7QfcPnQwhaJ"
      },
      "execution_count": null,
      "outputs": []
    },
    {
      "cell_type": "code",
      "source": [
        "df.to_csv('cars_data.csv', index=False, encoding='utf-8-sig')"
      ],
      "metadata": {
        "id": "U41aQi_-_Y-r"
      },
      "execution_count": null,
      "outputs": []
    }
  ]
}