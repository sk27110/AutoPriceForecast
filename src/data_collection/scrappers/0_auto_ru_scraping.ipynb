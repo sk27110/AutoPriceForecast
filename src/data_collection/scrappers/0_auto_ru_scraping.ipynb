{
  "cells": [
    {
      "cell_type": "markdown",
      "metadata": {},
      "source": [
        "# Scrapping data "
      ]
    },
    {
      "cell_type": "code",
      "execution_count": null,
      "metadata": {
        "colab": {
          "base_uri": "https://localhost:8080/"
        },
        "id": "NDUcWlEQTYpR",
        "outputId": "79f010fc-f0a5-48e8-f38e-c17df6f5175c"
      },
      "outputs": [],
      "source": [
        "import requests as r\n",
        "from bs4 import BeautifulSoup\n",
        "from concurrent.futures import ThreadPoolExecutor\n",
        "import numpy as np\n",
        "import pandas as pd\n",
        "import sys\n",
        "import time\n",
        "import datetime\n",
        "import requests as r\n",
        "import json\n",
        "from bs4 import BeautifulSoup as bs\n",
        "from pandas import Series\n",
        "import requests as r, json\n",
        "import re\n",
        "from tqdm import tqdm\n",
        "\n",
        "\n",
        "BASE_URL = 'https://auto.ru/cars/{year}-year/used/?displacement{vol}'\n",
        "max_pages = 100\n",
        "volumes = ['_from=2000', '_to=2000']\n",
        "\n",
        "\n",
        "for year in range(1990, 2025):\n",
        "  cars = []\n",
        "  for page_number in tqdm(range(1, 101), desc=f'Страницы {year}', leave=False):\n",
        "    for vol in volumes:\n",
        "      try:\n",
        "        url = BASE_URL.format(year=year, vol=vol) + f\"&page={page_number}\"\n",
        "        response = r.get(url)\n",
        "        response.encoding = 'utf-8'\n",
        "        if response.status_code == 200:\n",
        "          page = bs(response.text, 'html.parser')\n",
        "          items = page.find_all(class_='ListingItem')\n",
        "          for item in items:\n",
        "            car = dict()\n",
        "            car['price'] = item.find('span').text\n",
        "            car['title'] = item.find(class_='Link ListingItemTitle__link').text\n",
        "            car['year'] = item.find(class_='ListingItem__year').text\n",
        "            car['mileage'] = result = re.sub(r'[^\\dкм]', ' ', item.find(class_='ListingItem__kmAge').text).replace(' ', '').strip()\n",
        "            data = item.find_all(class_= 'ListingItemTechSummaryDesktop__cell')\n",
        "            car_tech_info = ['engine', 'transmission', 'body_type', 'drive_type', 'color']\n",
        "            for x,y  in zip(car_tech_info, data):\n",
        "              car[x]=y.text\n",
        "            car['engine'] = car['engine'].replace('\\u2009', ' ').replace('\\xa0', ' ')\n",
        "            cars.append(car)\n",
        "        else:\n",
        "          print(f\"Ошибка при загрузке страницы {url}: {response.status_code}\")\n",
        "      except:\n",
        "        print(\"Ошибка\")\n",
        "  df = pd.DataFrame(cars)\n",
        "  df.to_csv(f'0_scapper_data{year}.csv', index=False, encoding='utf-8-sig')\n",
        "\n"
      ]
    }
  ],
  "metadata": {
    "colab": {
      "authorship_tag": "ABX9TyP/Qs97c/kpv0PwE4XW0q0W",
      "include_colab_link": true,
      "provenance": []
    },
    "kernelspec": {
      "display_name": ".venv",
      "language": "python",
      "name": "python3"
    },
    "language_info": {
      "codemirror_mode": {
        "name": "ipython",
        "version": 3
      },
      "file_extension": ".py",
      "mimetype": "text/x-python",
      "name": "python",
      "nbconvert_exporter": "python",
      "pygments_lexer": "ipython3",
      "version": "3.12.9"
    }
  },
  "nbformat": 4,
  "nbformat_minor": 0
}
