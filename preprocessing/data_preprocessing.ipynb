{
  "cells": [
    {
      "cell_type": "markdown",
      "metadata": {},
      "source": [
        "# Data preprocessing"
      ]
    },
    {
      "cell_type": "code",
      "execution_count": 1,
      "metadata": {
        "id": "TKi5x_fw2LXs"
      },
      "outputs": [],
      "source": [
        "import numpy as np\n",
        "import pandas as pd\n",
        "import re"
      ]
    },
    {
      "cell_type": "code",
      "execution_count": null,
      "metadata": {
        "id": "Dp4jEHyi2Pvt"
      },
      "outputs": [],
      "source": [
        "# full data is local uncommited storage, because of dataset size, you can find full data in cloud by link in README\n",
        "df = pd.read_csv('/../full-data/full_cars_data.csv')"
      ]
    },
    {
      "cell_type": "code",
      "execution_count": 5,
      "metadata": {
        "colab": {
          "base_uri": "https://localhost:8080/"
        },
        "id": "_Vj5Vq4z40a3",
        "outputId": "f8d4c130-1521-4ef0-d2b8-f6b57636a0cf"
      },
      "outputs": [
        {
          "data": {
            "text/plain": [
              "(206656, 9)"
            ]
          },
          "execution_count": 5,
          "metadata": {},
          "output_type": "execute_result"
        }
      ],
      "source": [
        "df.shape"
      ]
    },
    {
      "cell_type": "code",
      "execution_count": 6,
      "metadata": {
        "colab": {
          "base_uri": "https://localhost:8080/",
          "height": 289
        },
        "id": "Y4YhpZ-jFgIQ",
        "outputId": "633f1293-1cb6-4dbc-ba1a-f5619a70012b"
      },
      "outputs": [
        {
          "data": {
            "text/html": [
              "<div>\n",
              "<style scoped>\n",
              "    .dataframe tbody tr th:only-of-type {\n",
              "        vertical-align: middle;\n",
              "    }\n",
              "\n",
              "    .dataframe tbody tr th {\n",
              "        vertical-align: top;\n",
              "    }\n",
              "\n",
              "    .dataframe thead th {\n",
              "        text-align: right;\n",
              "    }\n",
              "</style>\n",
              "<table border=\"1\" class=\"dataframe\">\n",
              "  <thead>\n",
              "    <tr style=\"text-align: right;\">\n",
              "      <th></th>\n",
              "      <th>price</th>\n",
              "      <th>title</th>\n",
              "      <th>year</th>\n",
              "      <th>mileage</th>\n",
              "      <th>engine</th>\n",
              "      <th>transmission</th>\n",
              "      <th>body_type</th>\n",
              "      <th>drive_type</th>\n",
              "      <th>color</th>\n",
              "    </tr>\n",
              "  </thead>\n",
              "  <tbody>\n",
              "    <tr>\n",
              "      <th>0</th>\n",
              "      <td>NaN</td>\n",
              "      <td>Mercedes-Benz G-Класс 230 II (W463)</td>\n",
              "      <td>1990</td>\n",
              "      <td>197000км</td>\n",
              "      <td>2.3 л / 125 л.с. / Бензин</td>\n",
              "      <td>автомат</td>\n",
              "      <td>внедорожник 3 дв.</td>\n",
              "      <td>полный</td>\n",
              "      <td>серый</td>\n",
              "    </tr>\n",
              "    <tr>\n",
              "      <th>1</th>\n",
              "      <td>NaN</td>\n",
              "      <td>Mercedes-Benz S-Класс 560 II (W126) Рестайлинг</td>\n",
              "      <td>1990</td>\n",
              "      <td>2800км</td>\n",
              "      <td>5.6 л / 279 л.с. / Бензин</td>\n",
              "      <td>автомат</td>\n",
              "      <td>седан</td>\n",
              "      <td>задний</td>\n",
              "      <td>коричневый</td>\n",
              "    </tr>\n",
              "    <tr>\n",
              "      <th>2</th>\n",
              "      <td>NaN</td>\n",
              "      <td>Toyota Carina V (T170)</td>\n",
              "      <td>1990</td>\n",
              "      <td>300000км</td>\n",
              "      <td>1.6 л / 98 л.с. / Бензин</td>\n",
              "      <td>автомат</td>\n",
              "      <td>седан</td>\n",
              "      <td>передний</td>\n",
              "      <td>синий</td>\n",
              "    </tr>\n",
              "    <tr>\n",
              "      <th>3</th>\n",
              "      <td>189 700 ₽</td>\n",
              "      <td>Volkswagen Passat B3</td>\n",
              "      <td>1990</td>\n",
              "      <td>325000км</td>\n",
              "      <td>1.8 л / 90 л.с. / Бензин</td>\n",
              "      <td>механика</td>\n",
              "      <td>универсал 5 дв.</td>\n",
              "      <td>передний</td>\n",
              "      <td>красный</td>\n",
              "    </tr>\n",
              "    <tr>\n",
              "      <th>4</th>\n",
              "      <td>370 000 ₽</td>\n",
              "      <td>Nissan Terrano I</td>\n",
              "      <td>1990</td>\n",
              "      <td>224000км</td>\n",
              "      <td>2.7 л / 100 л.с. / Дизель</td>\n",
              "      <td>автомат</td>\n",
              "      <td>внедорожник 5 дв.</td>\n",
              "      <td>полный</td>\n",
              "      <td>зелёный</td>\n",
              "    </tr>\n",
              "  </tbody>\n",
              "</table>\n",
              "</div>"
            ],
            "text/plain": [
              "       price                                           title  year   mileage  \\\n",
              "0        NaN             Mercedes-Benz G-Класс 230 II (W463)  1990  197000км   \n",
              "1        NaN  Mercedes-Benz S-Класс 560 II (W126) Рестайлинг  1990    2800км   \n",
              "2        NaN                          Toyota Carina V (T170)  1990  300000км   \n",
              "3  189 700 ₽                            Volkswagen Passat B3  1990  325000км   \n",
              "4  370 000 ₽                                Nissan Terrano I  1990  224000км   \n",
              "\n",
              "                      engine transmission          body_type drive_type  \\\n",
              "0  2.3 л / 125 л.с. / Бензин      автомат  внедорожник 3 дв.     полный   \n",
              "1  5.6 л / 279 л.с. / Бензин      автомат              седан     задний   \n",
              "2   1.6 л / 98 л.с. / Бензин      автомат              седан   передний   \n",
              "3   1.8 л / 90 л.с. / Бензин     механика    универсал 5 дв.   передний   \n",
              "4  2.7 л / 100 л.с. / Дизель      автомат  внедорожник 5 дв.     полный   \n",
              "\n",
              "        color  \n",
              "0       серый  \n",
              "1  коричневый  \n",
              "2       синий  \n",
              "3     красный  \n",
              "4     зелёный  "
            ]
          },
          "execution_count": 6,
          "metadata": {},
          "output_type": "execute_result"
        }
      ],
      "source": [
        "df.head()"
      ]
    },
    {
      "cell_type": "markdown",
      "metadata": {
        "id": "HSZiLYV65ave"
      },
      "source": [
        "Целевая переменная здесь -- price."
      ]
    },
    {
      "cell_type": "markdown",
      "metadata": {
        "id": "WC141l9747Ru"
      },
      "source": [
        "Как мы видим, в колонке price есть пропуски. Давайте удалим все строки, в которых price = NaN"
      ]
    },
    {
      "cell_type": "code",
      "execution_count": 7,
      "metadata": {
        "id": "hUw_gjwf4Ze8"
      },
      "outputs": [],
      "source": [
        "df = df.dropna(subset=['price'])"
      ]
    },
    {
      "cell_type": "code",
      "execution_count": 8,
      "metadata": {
        "colab": {
          "base_uri": "https://localhost:8080/"
        },
        "id": "MHIYcqBv4upj",
        "outputId": "e6cf80da-58a9-4be5-a2fa-eb94e35592dc"
      },
      "outputs": [
        {
          "data": {
            "text/plain": [
              "0"
            ]
          },
          "execution_count": 8,
          "metadata": {},
          "output_type": "execute_result"
        }
      ],
      "source": [
        "df['price'].isna().sum()"
      ]
    },
    {
      "cell_type": "markdown",
      "metadata": {
        "id": "orWM-X345T-w"
      },
      "source": [
        "Теперь пропусков в price у нас нет."
      ]
    },
    {
      "cell_type": "markdown",
      "metadata": {
        "id": "Nk5YqlqiZ4n5"
      },
      "source": [
        "Давайте посмотрим, какие единицы измерения есть в столбцах:"
      ]
    },
    {
      "cell_type": "code",
      "execution_count": 9,
      "metadata": {
        "colab": {
          "base_uri": "https://localhost:8080/"
        },
        "id": "QKFzBgZzZ9_F",
        "outputId": "305d007b-4cc7-441d-b2ef-d9307a0d4340"
      },
      "outputs": [
        {
          "name": "stdout",
          "output_type": "stream",
          "text": [
            "Различные валюты: ['₽']\n",
            "Различные единицы измерения расстояния: ['км']\n",
            "Различные единицы измерения двигателя: ['.л/л.с./Бензин' '.л/л.с./Дизель' '.л/л.с./Газ' '.л/л.с./Гибрид'\n",
            " 'л.с./кВт/Электро']\n"
          ]
        }
      ],
      "source": [
        "print(\"Различные валюты:\", df['price'].apply(lambda x: re.sub(r'[\\d\\s]+', '', x)).unique())\n",
        "print(\"Различные единицы измерения расстояния:\", df['mileage'].apply(lambda x: re.sub(r'[\\d\\s]+', '', x)).unique())\n",
        "print(\"Различные единицы измерения двигателя:\", df['engine'].apply(lambda x: re.sub(r'[\\d\\s]+', '', x)).unique())"
      ]
    },
    {
      "cell_type": "markdown",
      "metadata": {
        "id": "WTxLDRZHaBPq"
      },
      "source": [
        "Как мы видим, с price и mileage все хорошо, а вот с engine придется поработать."
      ]
    },
    {
      "cell_type": "markdown",
      "metadata": {
        "id": "yrWDJ5Ma5m9e"
      },
      "source": [
        "Теперь обработаем параметр engine. Как мы видим, в нем одновременно указан объем, мощьность и вид топлива. Разобъем его на три колонки."
      ]
    },
    {
      "cell_type": "code",
      "execution_count": 10,
      "metadata": {
        "id": "vCCFkQVE5-dX"
      },
      "outputs": [],
      "source": [
        "df['engine_capacity'] = np.nan\n",
        "df['engine_power'] = np.nan\n",
        "df['fuel_type'] = np.nan"
      ]
    },
    {
      "cell_type": "code",
      "execution_count": 11,
      "metadata": {
        "id": "cBnbCtB_6kLG"
      },
      "outputs": [],
      "source": [
        "def engine_transform(row):\n",
        "  try:\n",
        "    if pd.isna(row['engine']):\n",
        "      return row\n",
        "    data = row['engine'].split('/')\n",
        "    if data[2].strip() == 'Электро':\n",
        "      data[1] = data[0]\n",
        "      data[0] = np.nan\n",
        "\n",
        "    row['engine_capacity'] = data[0]\n",
        "    row['engine_power'] = data[1]\n",
        "    row['fuel_type'] = data[2].strip()\n",
        "    return row\n",
        "  except:\n",
        "    print(\"Ошибка со строкой\", row)\n",
        "    return row"
      ]
    },
    {
      "cell_type": "code",
      "execution_count": 12,
      "metadata": {
        "id": "zKgyjAQj_nJW"
      },
      "outputs": [],
      "source": [
        "df = df.apply(engine_transform, axis=1)"
      ]
    },
    {
      "cell_type": "code",
      "execution_count": 13,
      "metadata": {
        "colab": {
          "base_uri": "https://localhost:8080/"
        },
        "id": "ebJBCYvQAsFu",
        "outputId": "32a66c7c-1746-4632-824d-48564f1371ef"
      },
      "outputs": [
        {
          "name": "stdout",
          "output_type": "stream",
          "text": [
            "3606\n",
            "0\n",
            "0\n"
          ]
        }
      ],
      "source": [
        "print(df['engine_capacity'].isna().sum())\n",
        "print(df['engine_power'].isna().sum())\n",
        "print(df['fuel_type'].isna().sum())"
      ]
    },
    {
      "cell_type": "markdown",
      "metadata": {
        "id": "IgshYS70A4v4"
      },
      "source": [
        "Как мы видим, пропусков в новых столбцах нет."
      ]
    },
    {
      "cell_type": "markdown",
      "metadata": {
        "id": "w2cm08C4B4Zi"
      },
      "source": [
        "Теперь удалим ненужный столбец engine:"
      ]
    },
    {
      "cell_type": "code",
      "execution_count": 14,
      "metadata": {
        "id": "KNdPMTORBzrP"
      },
      "outputs": [],
      "source": [
        "df = df.drop('engine', axis=1)"
      ]
    },
    {
      "cell_type": "code",
      "execution_count": 15,
      "metadata": {
        "colab": {
          "base_uri": "https://localhost:8080/",
          "height": 326
        },
        "id": "o0tpeSe1B-gp",
        "outputId": "7040a766-bd59-4666-9ac3-5917888b2d0c"
      },
      "outputs": [
        {
          "data": {
            "text/html": [
              "<div>\n",
              "<style scoped>\n",
              "    .dataframe tbody tr th:only-of-type {\n",
              "        vertical-align: middle;\n",
              "    }\n",
              "\n",
              "    .dataframe tbody tr th {\n",
              "        vertical-align: top;\n",
              "    }\n",
              "\n",
              "    .dataframe thead th {\n",
              "        text-align: right;\n",
              "    }\n",
              "</style>\n",
              "<table border=\"1\" class=\"dataframe\">\n",
              "  <thead>\n",
              "    <tr style=\"text-align: right;\">\n",
              "      <th></th>\n",
              "      <th>price</th>\n",
              "      <th>title</th>\n",
              "      <th>year</th>\n",
              "      <th>mileage</th>\n",
              "      <th>transmission</th>\n",
              "      <th>body_type</th>\n",
              "      <th>drive_type</th>\n",
              "      <th>color</th>\n",
              "      <th>engine_capacity</th>\n",
              "      <th>engine_power</th>\n",
              "      <th>fuel_type</th>\n",
              "    </tr>\n",
              "  </thead>\n",
              "  <tbody>\n",
              "    <tr>\n",
              "      <th>3</th>\n",
              "      <td>189 700 ₽</td>\n",
              "      <td>Volkswagen Passat B3</td>\n",
              "      <td>1990</td>\n",
              "      <td>325000км</td>\n",
              "      <td>механика</td>\n",
              "      <td>универсал 5 дв.</td>\n",
              "      <td>передний</td>\n",
              "      <td>красный</td>\n",
              "      <td>1.8 л</td>\n",
              "      <td>90 л.с.</td>\n",
              "      <td>Бензин</td>\n",
              "    </tr>\n",
              "    <tr>\n",
              "      <th>4</th>\n",
              "      <td>370 000 ₽</td>\n",
              "      <td>Nissan Terrano I</td>\n",
              "      <td>1990</td>\n",
              "      <td>224000км</td>\n",
              "      <td>автомат</td>\n",
              "      <td>внедорожник 5 дв.</td>\n",
              "      <td>полный</td>\n",
              "      <td>зелёный</td>\n",
              "      <td>2.7 л</td>\n",
              "      <td>100 л.с.</td>\n",
              "      <td>Дизель</td>\n",
              "    </tr>\n",
              "    <tr>\n",
              "      <th>5</th>\n",
              "      <td>350 000 ₽</td>\n",
              "      <td>Honda Civic IV</td>\n",
              "      <td>1990</td>\n",
              "      <td>200000км</td>\n",
              "      <td>механика</td>\n",
              "      <td>седан</td>\n",
              "      <td>передний</td>\n",
              "      <td>серебристый</td>\n",
              "      <td>1.6 л</td>\n",
              "      <td>120 л.с.</td>\n",
              "      <td>Бензин</td>\n",
              "    </tr>\n",
              "    <tr>\n",
              "      <th>6</th>\n",
              "      <td>360 000 ₽</td>\n",
              "      <td>Volkswagen Passat B3</td>\n",
              "      <td>1990</td>\n",
              "      <td>200000км</td>\n",
              "      <td>механика</td>\n",
              "      <td>универсал 5 дв.</td>\n",
              "      <td>передний</td>\n",
              "      <td>белый</td>\n",
              "      <td>1.8 л</td>\n",
              "      <td>90 л.с.</td>\n",
              "      <td>Бензин</td>\n",
              "    </tr>\n",
              "    <tr>\n",
              "      <th>7</th>\n",
              "      <td>99 000 ₽</td>\n",
              "      <td>Toyota Carina V (T170)</td>\n",
              "      <td>1990</td>\n",
              "      <td>296000км</td>\n",
              "      <td>автомат</td>\n",
              "      <td>седан</td>\n",
              "      <td>передний</td>\n",
              "      <td>серебристый</td>\n",
              "      <td>1.5 л</td>\n",
              "      <td>94 л.с.</td>\n",
              "      <td>Бензин</td>\n",
              "    </tr>\n",
              "  </tbody>\n",
              "</table>\n",
              "</div>"
            ],
            "text/plain": [
              "       price                   title  year   mileage transmission  \\\n",
              "3  189 700 ₽    Volkswagen Passat B3  1990  325000км     механика   \n",
              "4  370 000 ₽        Nissan Terrano I  1990  224000км      автомат   \n",
              "5  350 000 ₽          Honda Civic IV  1990  200000км     механика   \n",
              "6  360 000 ₽    Volkswagen Passat B3  1990  200000км     механика   \n",
              "7   99 000 ₽  Toyota Carina V (T170)  1990  296000км      автомат   \n",
              "\n",
              "           body_type drive_type        color engine_capacity engine_power  \\\n",
              "3    универсал 5 дв.   передний      красный          1.8 л      90 л.с.    \n",
              "4  внедорожник 5 дв.     полный      зелёный          2.7 л     100 л.с.    \n",
              "5              седан   передний  серебристый          1.6 л     120 л.с.    \n",
              "6    универсал 5 дв.   передний        белый          1.8 л      90 л.с.    \n",
              "7              седан   передний  серебристый          1.5 л      94 л.с.    \n",
              "\n",
              "  fuel_type  \n",
              "3    Бензин  \n",
              "4    Дизель  \n",
              "5    Бензин  \n",
              "6    Бензин  \n",
              "7    Бензин  "
            ]
          },
          "execution_count": 15,
          "metadata": {},
          "output_type": "execute_result"
        }
      ],
      "source": [
        "df.head()"
      ]
    },
    {
      "cell_type": "markdown",
      "metadata": {
        "id": "st5gN5xNDzZ6"
      },
      "source": [
        "В столбец transmission при скрапинге попали данные о дальности хода для электромобилей. Давайте извлечем их оттуда."
      ]
    },
    {
      "cell_type": "code",
      "execution_count": 16,
      "metadata": {
        "id": "HL19pIvBERk_"
      },
      "outputs": [],
      "source": [
        "import re\n",
        "\n",
        "df['travel_distance'] = 0\n",
        "\n",
        "\n",
        "def transmission_transform(row):\n",
        "  try:\n",
        "    if pd.isna(row['transmission']):\n",
        "      return row\n",
        "    if row['fuel_type'] == 'Электро':\n",
        "      number = re.findall(r'\\d+', row['transmission'])\n",
        "      if number:\n",
        "        row['travel_distance'] = int(number[0])\n",
        "        row['transmission'] = 'none'\n",
        "        return row\n",
        "    return row\n",
        "  except:\n",
        "    print(row['transmission'])\n",
        "    return row\n",
        "\n",
        "\n",
        "df = df.apply(transmission_transform, axis=1)"
      ]
    },
    {
      "cell_type": "markdown",
      "metadata": {
        "id": "VBfTZFaPM0mn"
      },
      "source": [
        "Посмотрим, какие единицы измерения есть в числовых столбцах, чтобы правильно преобразовать данные:"
      ]
    },
    {
      "cell_type": "code",
      "execution_count": 17,
      "metadata": {
        "colab": {
          "base_uri": "https://localhost:8080/"
        },
        "id": "I0Wlq7tgM-8U",
        "outputId": "6143a24a-9ec6-4fe8-a2ee-e9b4d636be90"
      },
      "outputs": [
        {
          "name": "stdout",
          "output_type": "stream",
          "text": [
            "Различные валюты: ['₽']\n",
            "Различные единицы измерения расстояния: ['км']\n",
            "Различные единицы измерения объема двигателя: ['.л' nan]\n",
            "Различные единицы измерения мощьности: ['л.с.']\n"
          ]
        }
      ],
      "source": [
        "print(\"Различные валюты:\", df['price'].apply(lambda x: np.nan if pd.isna(x) else re.sub(r'[\\d\\s]+', '', x)).unique())\n",
        "print(\"Различные единицы измерения расстояния:\", df['mileage'].apply(lambda x: np.nan if pd.isna(x) else re.sub(r'[\\d\\s]+', '', x)).unique())\n",
        "print(\"Различные единицы измерения объема двигателя:\", df['engine_capacity'].apply(lambda x: np.nan if pd.isna(x) else re.sub(r'[\\d\\s]+', '', x)).unique())\n",
        "print(\"Различные единицы измерения мощьности:\", df['engine_power'].apply(lambda x: np.nan if pd.isna(x) else re.sub(r'[\\d\\s]+', '', x)).unique())"
      ]
    },
    {
      "cell_type": "markdown",
      "metadata": {
        "id": "dDwyaB6sI2p3"
      },
      "source": [
        "Преобразуем цену в числовую переменную."
      ]
    },
    {
      "cell_type": "code",
      "execution_count": 18,
      "metadata": {
        "id": "5cdZsXqWI-uC"
      },
      "outputs": [],
      "source": [
        "def price_to_int(x):\n",
        "  if pd.isna(x):\n",
        "    return np.nan\n",
        "  return int(x.replace('\\xa0', \"\").replace(\"₽\", \"\"))\n"
      ]
    },
    {
      "cell_type": "code",
      "execution_count": 19,
      "metadata": {
        "id": "iBGLhhlEKIbx"
      },
      "outputs": [],
      "source": [
        "df['price'] = df['price'].apply(price_to_int)"
      ]
    },
    {
      "cell_type": "markdown",
      "metadata": {
        "id": "3zZOoNL-KtID"
      },
      "source": [
        "Теперь price -- числовая переменная типа int, единица измерения -- рубли."
      ]
    },
    {
      "cell_type": "markdown",
      "metadata": {
        "id": "9UOyUVZ6K2qS"
      },
      "source": [
        "Преобразуем mileage в числовой формат."
      ]
    },
    {
      "cell_type": "code",
      "execution_count": 20,
      "metadata": {
        "id": "pdQtJZZsK62j"
      },
      "outputs": [],
      "source": [
        "def mileage_to_int(x):\n",
        "  if pd.isna(x):\n",
        "    return np.nan\n",
        "  return int(x.replace('км', '').replace('\\xa0', \"\"))"
      ]
    },
    {
      "cell_type": "code",
      "execution_count": 21,
      "metadata": {
        "id": "rvTg32Vjc9RD"
      },
      "outputs": [],
      "source": [
        "df['mileage'] = df['mileage'].apply(mileage_to_int)"
      ]
    },
    {
      "cell_type": "markdown",
      "metadata": {
        "id": "sctZq3BIgj92"
      },
      "source": [
        "Теперь mileage -- числовая переменная, единица измерения -- километры."
      ]
    },
    {
      "cell_type": "code",
      "execution_count": 22,
      "metadata": {
        "id": "6rDHR5ywg9Zy"
      },
      "outputs": [],
      "source": [
        "def engine_capacity_to_int(x):\n",
        "  if pd.isna(x):\n",
        "    return np.nan\n",
        "  return float(x.replace('л', '').strip())"
      ]
    },
    {
      "cell_type": "code",
      "execution_count": 23,
      "metadata": {
        "id": "hOdNMZCyhdXt"
      },
      "outputs": [],
      "source": [
        "df['engine_capacity'] = df['engine_capacity'].apply(engine_capacity_to_int)"
      ]
    },
    {
      "cell_type": "markdown",
      "metadata": {
        "id": "nhl55xeohx3e"
      },
      "source": [
        "Теперь engine_capacity -- числовая переменная, единицы измерения -- литры."
      ]
    },
    {
      "cell_type": "markdown",
      "metadata": {
        "id": "69BVCateie0u"
      },
      "source": [
        "Преобразуем engine_power в числовой формат."
      ]
    },
    {
      "cell_type": "code",
      "execution_count": 24,
      "metadata": {
        "id": "6-j8U3fTh6P5"
      },
      "outputs": [],
      "source": [
        "def engine_power_to_int(x):\n",
        "  if pd.isna(x):\n",
        "    return np.nan\n",
        "  return float(x.replace('л.с.', '').strip())"
      ]
    },
    {
      "cell_type": "code",
      "execution_count": 25,
      "metadata": {
        "id": "MgAPwFsqiShA"
      },
      "outputs": [],
      "source": [
        "df['engine_power'] = df['engine_power'].apply(engine_power_to_int)"
      ]
    },
    {
      "cell_type": "markdown",
      "metadata": {
        "id": "VdFGMVFQipxk"
      },
      "source": [
        "Теперь engine_power -- числовая переменная, единицы измерения -- лошадиные силы."
      ]
    },
    {
      "cell_type": "code",
      "execution_count": 26,
      "metadata": {
        "colab": {
          "base_uri": "https://localhost:8080/",
          "height": 455
        },
        "id": "iZIMApaziyJn",
        "outputId": "2423b02f-22bc-45d0-a60b-c63ed571c97b"
      },
      "outputs": [
        {
          "data": {
            "text/plain": [
              "price                int64\n",
              "title               object\n",
              "year                 int64\n",
              "mileage              int64\n",
              "transmission        object\n",
              "body_type           object\n",
              "drive_type          object\n",
              "color               object\n",
              "engine_capacity    float64\n",
              "engine_power       float64\n",
              "fuel_type           object\n",
              "travel_distance      int64\n",
              "dtype: object"
            ]
          },
          "execution_count": 26,
          "metadata": {},
          "output_type": "execute_result"
        }
      ],
      "source": [
        "df.dtypes"
      ]
    },
    {
      "cell_type": "markdown",
      "metadata": {
        "id": "FMHNBS3klg1_"
      },
      "source": [
        "Посмотрим на основные статистики наших данных."
      ]
    },
    {
      "cell_type": "code",
      "execution_count": 27,
      "metadata": {
        "colab": {
          "base_uri": "https://localhost:8080/",
          "height": 297
        },
        "id": "OxwwAYlYj6PA",
        "outputId": "11d27bf7-4672-4480-a6c7-4c5ee1e5b68c"
      },
      "outputs": [
        {
          "data": {
            "text/html": [
              "<div>\n",
              "<style scoped>\n",
              "    .dataframe tbody tr th:only-of-type {\n",
              "        vertical-align: middle;\n",
              "    }\n",
              "\n",
              "    .dataframe tbody tr th {\n",
              "        vertical-align: top;\n",
              "    }\n",
              "\n",
              "    .dataframe thead th {\n",
              "        text-align: right;\n",
              "    }\n",
              "</style>\n",
              "<table border=\"1\" class=\"dataframe\">\n",
              "  <thead>\n",
              "    <tr style=\"text-align: right;\">\n",
              "      <th></th>\n",
              "      <th>price</th>\n",
              "      <th>year</th>\n",
              "      <th>mileage</th>\n",
              "      <th>engine_capacity</th>\n",
              "      <th>engine_power</th>\n",
              "      <th>travel_distance</th>\n",
              "    </tr>\n",
              "  </thead>\n",
              "  <tbody>\n",
              "    <tr>\n",
              "      <th>count</th>\n",
              "      <td>1.991820e+05</td>\n",
              "      <td>199182.000000</td>\n",
              "      <td>199182.000000</td>\n",
              "      <td>195576.000000</td>\n",
              "      <td>199182.000000</td>\n",
              "      <td>199182.000000</td>\n",
              "    </tr>\n",
              "    <tr>\n",
              "      <th>mean</th>\n",
              "      <td>2.305377e+06</td>\n",
              "      <td>2010.537955</td>\n",
              "      <td>175138.229825</td>\n",
              "      <td>2.315878</td>\n",
              "      <td>188.135630</td>\n",
              "      <td>9.560417</td>\n",
              "    </tr>\n",
              "    <tr>\n",
              "      <th>std</th>\n",
              "      <td>5.746065e+06</td>\n",
              "      <td>8.737646</td>\n",
              "      <td>118841.182301</td>\n",
              "      <td>0.899047</td>\n",
              "      <td>110.511373</td>\n",
              "      <td>72.873968</td>\n",
              "    </tr>\n",
              "    <tr>\n",
              "      <th>min</th>\n",
              "      <td>2.500000e+04</td>\n",
              "      <td>1990.000000</td>\n",
              "      <td>1.000000</td>\n",
              "      <td>0.400000</td>\n",
              "      <td>10.000000</td>\n",
              "      <td>0.000000</td>\n",
              "    </tr>\n",
              "    <tr>\n",
              "      <th>25%</th>\n",
              "      <td>5.600000e+05</td>\n",
              "      <td>2004.000000</td>\n",
              "      <td>81000.000000</td>\n",
              "      <td>1.600000</td>\n",
              "      <td>116.000000</td>\n",
              "      <td>0.000000</td>\n",
              "    </tr>\n",
              "    <tr>\n",
              "      <th>50%</th>\n",
              "      <td>1.200000e+06</td>\n",
              "      <td>2011.000000</td>\n",
              "      <td>170000.000000</td>\n",
              "      <td>2.000000</td>\n",
              "      <td>155.000000</td>\n",
              "      <td>0.000000</td>\n",
              "    </tr>\n",
              "    <tr>\n",
              "      <th>75%</th>\n",
              "      <td>2.500000e+06</td>\n",
              "      <td>2018.000000</td>\n",
              "      <td>250000.000000</td>\n",
              "      <td>2.700000</td>\n",
              "      <td>231.000000</td>\n",
              "      <td>0.000000</td>\n",
              "    </tr>\n",
              "    <tr>\n",
              "      <th>max</th>\n",
              "      <td>1.000000e+09</td>\n",
              "      <td>2025.000000</td>\n",
              "      <td>1000000.000000</td>\n",
              "      <td>8.300000</td>\n",
              "      <td>1548.000000</td>\n",
              "      <td>1055.000000</td>\n",
              "    </tr>\n",
              "  </tbody>\n",
              "</table>\n",
              "</div>"
            ],
            "text/plain": [
              "              price           year         mileage  engine_capacity  \\\n",
              "count  1.991820e+05  199182.000000   199182.000000    195576.000000   \n",
              "mean   2.305377e+06    2010.537955   175138.229825         2.315878   \n",
              "std    5.746065e+06       8.737646   118841.182301         0.899047   \n",
              "min    2.500000e+04    1990.000000        1.000000         0.400000   \n",
              "25%    5.600000e+05    2004.000000    81000.000000         1.600000   \n",
              "50%    1.200000e+06    2011.000000   170000.000000         2.000000   \n",
              "75%    2.500000e+06    2018.000000   250000.000000         2.700000   \n",
              "max    1.000000e+09    2025.000000  1000000.000000         8.300000   \n",
              "\n",
              "        engine_power  travel_distance  \n",
              "count  199182.000000    199182.000000  \n",
              "mean      188.135630         9.560417  \n",
              "std       110.511373        72.873968  \n",
              "min        10.000000         0.000000  \n",
              "25%       116.000000         0.000000  \n",
              "50%       155.000000         0.000000  \n",
              "75%       231.000000         0.000000  \n",
              "max      1548.000000      1055.000000  "
            ]
          },
          "execution_count": 27,
          "metadata": {},
          "output_type": "execute_result"
        }
      ],
      "source": [
        "df.describe(include='number')"
      ]
    },
    {
      "cell_type": "markdown",
      "metadata": {
        "id": "bWwzo8dXB9mz"
      },
      "source": [
        "Как мы видим, отрицательных значений в данных нет. Экстремально больших значений в данных тоже нет."
      ]
    },
    {
      "cell_type": "code",
      "execution_count": 28,
      "metadata": {
        "colab": {
          "base_uri": "https://localhost:8080/",
          "height": 173
        },
        "id": "L7Q5OOWfkCKB",
        "outputId": "2fce2911-c297-4bc6-aa75-338e429f5fc0"
      },
      "outputs": [
        {
          "data": {
            "text/html": [
              "<div>\n",
              "<style scoped>\n",
              "    .dataframe tbody tr th:only-of-type {\n",
              "        vertical-align: middle;\n",
              "    }\n",
              "\n",
              "    .dataframe tbody tr th {\n",
              "        vertical-align: top;\n",
              "    }\n",
              "\n",
              "    .dataframe thead th {\n",
              "        text-align: right;\n",
              "    }\n",
              "</style>\n",
              "<table border=\"1\" class=\"dataframe\">\n",
              "  <thead>\n",
              "    <tr style=\"text-align: right;\">\n",
              "      <th></th>\n",
              "      <th>title</th>\n",
              "      <th>transmission</th>\n",
              "      <th>body_type</th>\n",
              "      <th>drive_type</th>\n",
              "      <th>color</th>\n",
              "      <th>fuel_type</th>\n",
              "    </tr>\n",
              "  </thead>\n",
              "  <tbody>\n",
              "    <tr>\n",
              "      <th>count</th>\n",
              "      <td>199182</td>\n",
              "      <td>199182</td>\n",
              "      <td>199182</td>\n",
              "      <td>199182</td>\n",
              "      <td>199176</td>\n",
              "      <td>199182</td>\n",
              "    </tr>\n",
              "    <tr>\n",
              "      <th>unique</th>\n",
              "      <td>8182</td>\n",
              "      <td>5</td>\n",
              "      <td>28</td>\n",
              "      <td>3</td>\n",
              "      <td>16</td>\n",
              "      <td>5</td>\n",
              "    </tr>\n",
              "    <tr>\n",
              "      <th>top</th>\n",
              "      <td>Lada (ВАЗ) 2110</td>\n",
              "      <td>автомат</td>\n",
              "      <td>внедорожник 5 дв.</td>\n",
              "      <td>полный</td>\n",
              "      <td>чёрный</td>\n",
              "      <td>Бензин</td>\n",
              "    </tr>\n",
              "    <tr>\n",
              "      <th>freq</th>\n",
              "      <td>1130</td>\n",
              "      <td>112515</td>\n",
              "      <td>83983</td>\n",
              "      <td>91939</td>\n",
              "      <td>48846</td>\n",
              "      <td>157290</td>\n",
              "    </tr>\n",
              "  </tbody>\n",
              "</table>\n",
              "</div>"
            ],
            "text/plain": [
              "                  title transmission          body_type drive_type   color  \\\n",
              "count            199182       199182             199182     199182  199176   \n",
              "unique             8182            5                 28          3      16   \n",
              "top     Lada (ВАЗ) 2110      автомат  внедорожник 5 дв.     полный  чёрный   \n",
              "freq               1130       112515              83983      91939   48846   \n",
              "\n",
              "       fuel_type  \n",
              "count     199182  \n",
              "unique         5  \n",
              "top       Бензин  \n",
              "freq      157290  "
            ]
          },
          "execution_count": 28,
          "metadata": {},
          "output_type": "execute_result"
        }
      ],
      "source": [
        "df.describe(include='object')"
      ]
    },
    {
      "cell_type": "markdown",
      "metadata": {
        "id": "tKMtBssbHEpF"
      },
      "source": [
        "Давайте посмотрим на уникальные значения в данных:"
      ]
    },
    {
      "cell_type": "markdown",
      "metadata": {
        "id": "3M8JQY-0lt_d"
      },
      "source": [
        "Посмотрим, есть ли в данных пропуски."
      ]
    },
    {
      "cell_type": "code",
      "execution_count": 29,
      "metadata": {
        "colab": {
          "base_uri": "https://localhost:8080/",
          "height": 455
        },
        "id": "Uz0WgSMXlxXA",
        "outputId": "e9c63f7d-200a-489b-9f1b-347526abe423"
      },
      "outputs": [
        {
          "data": {
            "text/plain": [
              "price                 0\n",
              "title                 0\n",
              "year                  0\n",
              "mileage               0\n",
              "transmission          0\n",
              "body_type             0\n",
              "drive_type            0\n",
              "color                 6\n",
              "engine_capacity    3606\n",
              "engine_power          0\n",
              "fuel_type             0\n",
              "travel_distance       0\n",
              "dtype: int64"
            ]
          },
          "execution_count": 29,
          "metadata": {},
          "output_type": "execute_result"
        }
      ],
      "source": [
        "df.isna().sum()"
      ]
    },
    {
      "cell_type": "markdown",
      "metadata": {
        "id": "9XpamdoOp5yH"
      },
      "source": [
        "Посмотрим на процент пропусков в данных:"
      ]
    },
    {
      "cell_type": "code",
      "execution_count": 30,
      "metadata": {
        "colab": {
          "base_uri": "https://localhost:8080/",
          "height": 455
        },
        "id": "TcvLzbpxomjL",
        "outputId": "a5aa522b-9b76-48ed-cc94-84dfb20d9f40"
      },
      "outputs": [
        {
          "data": {
            "text/plain": [
              "price              0.000000\n",
              "title              0.000000\n",
              "year               0.000000\n",
              "mileage            0.000000\n",
              "transmission       0.000000\n",
              "body_type          0.000000\n",
              "drive_type         0.000000\n",
              "color              0.003012\n",
              "engine_capacity    1.810405\n",
              "engine_power       0.000000\n",
              "fuel_type          0.000000\n",
              "travel_distance    0.000000\n",
              "dtype: float64"
            ]
          },
          "execution_count": 30,
          "metadata": {},
          "output_type": "execute_result"
        }
      ],
      "source": [
        "df.isna().mean()*100"
      ]
    },
    {
      "cell_type": "markdown",
      "metadata": {
        "id": "2ALqFwXxmZ-i"
      },
      "source": [
        "Пропущенные значения в engine_capacity -- это данные, в которых тип двигателя -- Электро. У такого двигателя нет объема.\n",
        "\n",
        "Пропусков в цвете всего 5, скорее всего их не указал продавец или при скрапинге страница не успела прогрузить цвет."
      ]
    },
    {
      "cell_type": "code",
      "execution_count": 31,
      "metadata": {
        "colab": {
          "base_uri": "https://localhost:8080/"
        },
        "id": "k80P_ii4uX0X",
        "outputId": "44a7f921-de4a-4cc0-fce6-4a6d4195ef51"
      },
      "outputs": [
        {
          "data": {
            "text/plain": [
              "(3606, 12)"
            ]
          },
          "execution_count": 31,
          "metadata": {},
          "output_type": "execute_result"
        }
      ],
      "source": [
        "df[df['fuel_type'] == 'Электро'].shape"
      ]
    },
    {
      "cell_type": "markdown",
      "metadata": {
        "id": "U8ffrjTgrH6s"
      },
      "source": [
        "color мы заполним самым популярным значением.\n"
      ]
    },
    {
      "cell_type": "code",
      "execution_count": 32,
      "metadata": {
        "id": "E3QwypHUrUXb"
      },
      "outputs": [],
      "source": [
        "from sklearn.impute import SimpleImputer\n",
        "\n",
        "imputer = SimpleImputer(strategy='most_frequent')\n",
        "df['color'] = imputer.fit_transform(df[['color']]).ravel()"
      ]
    },
    {
      "cell_type": "code",
      "execution_count": 33,
      "metadata": {
        "colab": {
          "base_uri": "https://localhost:8080/"
        },
        "id": "ZqXCUStBs_yg",
        "outputId": "20fb73f1-29ab-42ec-de61-8f73bf9f9106"
      },
      "outputs": [
        {
          "data": {
            "text/plain": [
              "0"
            ]
          },
          "execution_count": 33,
          "metadata": {},
          "output_type": "execute_result"
        }
      ],
      "source": [
        "df['color'].isna().sum()"
      ]
    },
    {
      "cell_type": "markdown",
      "metadata": {
        "id": "cjl_h68ptEzd"
      },
      "source": [
        "Теперь заполним все пропуски в engine_capacity нулями"
      ]
    },
    {
      "cell_type": "code",
      "execution_count": 34,
      "metadata": {
        "id": "fhbqy0Bewocg"
      },
      "outputs": [],
      "source": [
        "df['engine_capacity'] = df['engine_capacity'].fillna(0)"
      ]
    },
    {
      "cell_type": "code",
      "execution_count": 35,
      "metadata": {
        "colab": {
          "base_uri": "https://localhost:8080/"
        },
        "id": "3lrFve1qwzC_",
        "outputId": "cf320135-b8a2-47cb-f6b4-f9aed3a04845"
      },
      "outputs": [
        {
          "data": {
            "text/plain": [
              "0"
            ]
          },
          "execution_count": 35,
          "metadata": {},
          "output_type": "execute_result"
        }
      ],
      "source": [
        "df['engine_capacity'].isna().sum()"
      ]
    },
    {
      "cell_type": "code",
      "execution_count": 36,
      "metadata": {
        "colab": {
          "base_uri": "https://localhost:8080/"
        },
        "id": "yjLIBTUJw8hG",
        "outputId": "213b7438-7748-485d-8407-41c4966a3ebc"
      },
      "outputs": [
        {
          "data": {
            "text/plain": [
              "0"
            ]
          },
          "execution_count": 36,
          "metadata": {},
          "output_type": "execute_result"
        }
      ],
      "source": [
        "df.isna().sum().sum()"
      ]
    },
    {
      "cell_type": "markdown",
      "metadata": {},
      "source": [
        "Переносим данные в csv для исследования"
      ]
    },
    {
      "cell_type": "code",
      "execution_count": null,
      "metadata": {},
      "outputs": [],
      "source": [
        "df.to_csv('../full-data/preprocessed.csv')"
      ]
    }
  ],
  "metadata": {
    "colab": {
      "include_colab_link": true,
      "provenance": []
    },
    "kernelspec": {
      "display_name": ".venv",
      "language": "python",
      "name": "python3"
    },
    "language_info": {
      "codemirror_mode": {
        "name": "ipython",
        "version": 3
      },
      "file_extension": ".py",
      "mimetype": "text/x-python",
      "name": "python",
      "nbconvert_exporter": "python",
      "pygments_lexer": "ipython3",
      "version": "3.12.9"
    }
  },
  "nbformat": 4,
  "nbformat_minor": 0
}
